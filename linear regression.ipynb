{
 "cells": [
  {
   "cell_type": "code",
   "execution_count": 101,
   "id": "similar-texas",
   "metadata": {},
   "outputs": [],
   "source": [
    "import numpy as np\n",
    "import matplotlib.pyplot as plt\n",
    "import pandas as pd"
   ]
  },
  {
   "cell_type": "code",
   "execution_count": 158,
   "id": "million-politics",
   "metadata": {},
   "outputs": [],
   "source": [
    "a='./linear regression/Linear_X_Train.csv'\n",
    "b='./linear regression/Linear_Y_Train.csv'\n",
    "# c='./linear regression/Linear_X_Test.csv'\n",
    "d='./linear regression/Linear_X_Test.csv'"
   ]
  },
  {
   "cell_type": "code",
   "execution_count": 103,
   "id": "third-viking",
   "metadata": {},
   "outputs": [],
   "source": [
    "x=pd.read_csv(a)\n",
    "y=pd.read_csv(b)"
   ]
  },
  {
   "cell_type": "code",
   "execution_count": 104,
   "id": "wireless-arizona",
   "metadata": {},
   "outputs": [],
   "source": [
    "#normalisation ie sd should be closest to 1\n",
    "\n",
    "u = x.mean()\n",
    "sd = x.std()\n",
    "\n",
    "x=(x-u)/sd;\n",
    "\n",
    "# x.head()"
   ]
  },
  {
   "cell_type": "code",
   "execution_count": 105,
   "id": "sapphire-sensitivity",
   "metadata": {},
   "outputs": [],
   "source": [
    "x=x.values\n",
    "y=y.values"
   ]
  },
  {
   "cell_type": "code",
   "execution_count": 106,
   "id": "objective-combine",
   "metadata": {},
   "outputs": [
    {
     "data": {
      "text/plain": [
       "<matplotlib.collections.PathCollection at 0x1bccad56ca0>"
      ]
     },
     "execution_count": 106,
     "metadata": {},
     "output_type": "execute_result"
    },
    {
     "data": {
      "image/png": "[encoded data removed]",
      "text/plain": [
       "<Figure size 432x288 with 1 Axes>"
      ]
     },
     "metadata": {
      "needs_background": "light"
     },
     "output_type": "display_data"
    }
   ],
   "source": [
    "plt.scatter(x,y)"
   ]
  },
  {
   "cell_type": "code",
   "execution_count": 191,
   "id": "incorporated-collector",
   "metadata": {},
   "outputs": [],
   "source": [
    "# def hypothesis(x,theta):\n",
    "#     y_=theta[0]+theta[1]*x\n",
    "#     return y_\n",
    "\n",
    "# def gradient(X,Y,theta):#gradient is summation of yi_hat(val on line) - yi(y actual value) so its the sum of error\n",
    "#     m=len(Y)#No of points. so for that \n",
    "#     grad=[0,0]\n",
    "#     grad=np.array(grad)\n",
    "#     for i in range(m):\n",
    "#         y_hat=hypothesis(X[i],theta)# y hat is the value of y at the linear line. so it's calculated using values of m & c and x;\n",
    "#         y=Y[i]\n",
    "#         grad[0]+=(y_hat-y)#this one is gradient of theta0 which after partial derivative was this\n",
    "#         grad[1]+=(y_hat-y)*X[i]#this one is gradient of theta1 which after partial derivative was this\n",
    "#     return (grad)/m\n",
    "\n",
    "# def error_fn(X,Y,theta):\n",
    "#     m=len(Y)\n",
    "#     print(m)\n",
    "#     error=0.0\n",
    "#     for i in range(m):\n",
    "#         error+=(hypothesis(X[i],theta)-Y[i])**2\n",
    "#     return error/m\n",
    "\n",
    "# def gradient_descent(X,Y,learning_curve=0.1):\n",
    "#     gd=[0,0]\n",
    "#     gd=np.array(gd)\n",
    "#     e_list=[]\n",
    "#     for i in range(100):\n",
    "#         grad=gradient(X,Y,gd)\n",
    "#         e_list.append(error_fn(X,Y,grad))\n",
    "#         gd[0]=gd[0]-learning_curve*(grad[0])\n",
    "#         gd[1]=gd[1]-learning_curve*(grad[1])\n",
    "#     return gd,e_list\n",
    "\n",
    "def hypothesis(x,theta):\n",
    "    # theta=[theta0,theta1]\n",
    "    y_ = theta[0]+theta[1]*x\n",
    "    return y_\n",
    "\n",
    "def gradient(X,Y,theta):\n",
    "    m = X.shape[0]\n",
    "    grad = np.zeros((2,))\n",
    "    \n",
    "    for i in range(m):\n",
    "        y_=hypothesis(X[i],theta)\n",
    "        y = Y[i]\n",
    "        \n",
    "        grad[0]+=(y_-y)\n",
    "        grad[1]+=(y_-y)*X[i]\n",
    "        \n",
    "    return grad/m\n",
    "\n",
    "def error(X,Y,theta):\n",
    "    m = x.shape[0]\n",
    "    totalerr=0.0\n",
    "    for i in range (m):\n",
    "        y_=hypothesis(X[i],theta)\n",
    "        totalerr+=(y_ - Y[i])**2\n",
    "        \n",
    "    return totalerr/m\n",
    "\n",
    "def gradientDescent(X,Y,maxsteps=100,learning_rate=0.1):\n",
    "    \n",
    "    theta = np.zeros((2,))\n",
    "    errorlist=[]\n",
    "    for i in range (maxsteps):\n",
    "        grad=gradient(X,Y,theta)\n",
    "        e=error(X,Y,theta)\n",
    "        errorlist.append(e)\n",
    "        theta[0]=theta[0]-learning_rate*grad[0]\n",
    "        theta[1]=theta[1]-learning_rate*grad[1]\n",
    "    return theta,errorlist"
   ]
  },
  {
   "cell_type": "code",
   "execution_count": 192,
   "id": "chief-center",
   "metadata": {},
   "outputs": [],
   "source": [
    "theta,error_list = gradientDescent(x,y)"
   ]
  },
  {
   "cell_type": "code",
   "execution_count": 193,
   "id": "clinical-ghana",
   "metadata": {},
   "outputs": [
    {
     "data": {
      "text/plain": [
       "array([ 0.6838508 , 79.91426418])"
      ]
     },
     "execution_count": 193,
     "metadata": {},
     "output_type": "execute_result"
    }
   ],
   "source": [
    "theta"
   ]
  },
  {
   "cell_type": "code",
   "execution_count": 194,
   "id": "experienced-massage",
   "metadata": {},
   "outputs": [
    {
     "data": {
      "text/plain": [
       "[<matplotlib.lines.Line2D at 0x1bccd843e50>]"
      ]
     },
     "execution_count": 194,
     "metadata": {},
     "output_type": "execute_result"
    },
    {
     "data": {
      "image/png": "[encoded data removed]",
      "text/plain": [
       "<Figure size 432x288 with 1 Axes>"
      ]
     },
     "metadata": {
      "needs_background": "light"
     },
     "output_type": "display_data"
    }
   ],
   "source": [
    "plt.plot(error_list)"
   ]
  },
  {
   "cell_type": "markdown",
   "id": "incorrect-physiology",
   "metadata": {},
   "source": [
    "        ## PLOT THE Y_ line "
   ]
  },
  {
   "cell_type": "code",
   "execution_count": 195,
   "id": "surprised-thunder",
   "metadata": {},
   "outputs": [],
   "source": [
    "y_=hypothesis(x,theta)"
   ]
  },
  {
   "cell_type": "code",
   "execution_count": 196,
   "id": "physical-directive",
   "metadata": {},
   "outputs": [
    {
     "data": {
      "text/plain": [
       "[<matplotlib.lines.Line2D at 0x1bccd8a81f0>]"
      ]
     },
     "execution_count": 196,
     "metadata": {},
     "output_type": "execute_result"
    },
    {
     "data": {
      "image/png": "[encoded data removed]",
      "text/plain": [
       "<Figure size 432x288 with 1 Axes>"
      ]
     },
     "metadata": {
      "needs_background": "light"
     },
     "output_type": "display_data"
    }
   ],
   "source": [
    "plt.scatter(x,y)\n",
    "plt.plot(x,y_,color=\"red\")"
   ]
  },
  {
   "cell_type": "code",
   "execution_count": 197,
   "id": "compact-empire",
   "metadata": {},
   "outputs": [],
   "source": [
    "test_data=pd.read_csv(d)"
   ]
  },
  {
   "cell_type": "code",
   "execution_count": 198,
   "id": "fallen-negative",
   "metadata": {},
   "outputs": [],
   "source": [
    "td=test_data.values"
   ]
  },
  {
   "cell_type": "code",
   "execution_count": 199,
   "id": "automatic-joining",
   "metadata": {},
   "outputs": [],
   "source": [
    "t=hypothesis(td,theta)"
   ]
  },
  {
   "cell_type": "code",
   "execution_count": 200,
   "id": "accessory-homeless",
   "metadata": {},
   "outputs": [
    {
     "data": {
      "text/plain": [
       "array([[-149.39069522],\n",
       "       [ -68.76419531],\n",
       "       [-201.51381591],\n",
       "       ...,\n",
       "       [  10.91350164],\n",
       "       [ -21.5353186 ],\n",
       "       [ -53.69184664]])"
      ]
     },
     "execution_count": 200,
     "metadata": {},
     "output_type": "execute_result"
    }
   ],
   "source": [
    "t"
   ]
  },
  {
   "cell_type": "code",
   "execution_count": 201,
   "id": "nominated-warner",
   "metadata": {},
   "outputs": [
    {
     "data": {
      "text/plain": [
       "[<matplotlib.lines.Line2D at 0x1bccd8fd9d0>]"
      ]
     },
     "execution_count": 201,
     "metadata": {},
     "output_type": "execute_result"
    },
    {
     "data": {
      "image/png": "[encoded data removed]",
      "text/plain": [
       "<Figure size 432x288 with 1 Axes>"
      ]
     },
     "metadata": {
      "needs_background": "light"
     },
     "output_type": "display_data"
    }
   ],
   "source": [
    "plt.scatter(x,y)\n",
    "plt.plot(x,y_,color=\"red\")\n",
    "# plt.plot(x,t,color=\"orange\")"
   ]
  },
  {
   "cell_type": "code",
   "execution_count": 202,
   "id": "political-duration",
   "metadata": {},
   "outputs": [],
   "source": [
    "t_d=pd.DataFrame(t,columns=[\"y\"])"
   ]
  },
  {
   "cell_type": "code",
   "execution_count": 203,
   "id": "structured-simple",
   "metadata": {},
   "outputs": [],
   "source": [
    "t_d.to_csv('y_pred.csv',index=False)"
   ]
  },
  {
   "cell_type": "code",
   "execution_count": null,
   "id": "official-desire",
   "metadata": {},
   "outputs": [],
   "source": []
  },
  {
   "cell_type": "code",
   "execution_count": 204,
   "id": "frank-termination",
   "metadata": {},
   "outputs": [],
   "source": [
    "def score(y,y_):\n",
    "    num=sum(y-y_)**2\n",
    "    den=sum(y-(y/len(y)))**2\n",
    "    \n",
    "    return (1-(num/den))*100"
   ]
  },
  {
   "cell_type": "code",
   "execution_count": 205,
   "id": "congressional-burst",
   "metadata": {},
   "outputs": [
    {
     "data": {
      "text/plain": [
       "array([99.99999993])"
      ]
     },
     "execution_count": 205,
     "metadata": {},
     "output_type": "execute_result"
    }
   ],
   "source": [
    "score(y,y_)"
   ]
  },
  {
   "cell_type": "code",
   "execution_count": null,
   "id": "eligible-thumb",
   "metadata": {},
   "outputs": [],
   "source": []
  }
 ],
 "metadata": {
  "kernelspec": {
   "display_name": "Python 3",
   "language": "python",
   "name": "python3"
  },
  "language_info": {
   "codemirror_mode": {
    "name": "ipython",
    "version": 3
   },
   "file_extension": ".py",
   "mimetype": "text/x-python",
   "name": "python",
   "nbconvert_exporter": "python",
   "pygments_lexer": "ipython3",
   "version": "3.9.1"
  }
 },
 "nbformat": 4,
 "nbformat_minor": 5
}
