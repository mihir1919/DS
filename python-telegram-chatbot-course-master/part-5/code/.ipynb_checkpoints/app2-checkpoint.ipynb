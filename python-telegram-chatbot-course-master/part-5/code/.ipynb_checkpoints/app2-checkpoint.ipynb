{
 "cells": [
  {
   "cell_type": "code",
   "execution_count": null,
   "id": "optional-triple",
   "metadata": {},
   "outputs": [],
   "source": [
    "import logging\n",
    "\n",
    "from flask import Flask, request\n",
    "from telegram import Bot, Update\n",
    "from telegram.ext import CommandHandler, MessageHandler, Filters, Dispatcher\n",
    "from utils import get_reply, fetch_news\n",
    "\n",
    "# enable logging\n",
    "logging.basicConfig(format='%(asctime)s - %(name)s - %(levelname)s - %(message)s', level=logging.INFO)\n",
    "logger = logging.getLogger(__name__)\n",
    "\n",
    "# telegram bot token\n",
    "TOKEN = \"1689415388:AAGbsnbRpz1xXwsTt8e6CVOakxi0n-w3nIY\"\n"
   ]
  },
  {
   "cell_type": "code",
   "execution_count": null,
   "id": "thirty-robinson",
   "metadata": {},
   "outputs": [
    {
     "name": "stdout",
     "output_type": "stream",
     "text": [
      " * Serving Flask app '__main__' (lazy loading)\n",
      " * Environment: production\n",
      "   WARNING: This is a development server. Do not use it in a production deployment.\n",
      "   Use a production WSGI server instead.\n",
      " * Debug mode: off\n"
     ]
    },
    {
     "name": "stderr",
     "output_type": "stream",
     "text": [
      "2021-05-31 19:37:07,070 - werkzeug - INFO -  * Running on http://127.0.0.1:8443/ (Press CTRL+C to quit)\n"
     ]
    }
   ],
   "source": [
    "\n",
    "app = Flask(__name__)\n",
    "\n",
    "\n",
    "@app.route('/')\n",
    "def index():\n",
    "    return \"Hello!\"\n",
    "\n",
    "\n",
    "@app.route(f'/{TOKEN}', methods=['GET', 'POST'])\n",
    "def webhook():\n",
    "    \"\"\"webhook view which receives updates from telegram\"\"\"\n",
    "    # create update object from json-format request data\n",
    "    update = Update.de_json(request.get_json(), bot)\n",
    "    # process update\n",
    "    dp.process_update(update)\n",
    "    return \"ok\"\n",
    "\n",
    "\n",
    "def start(bot, update):\n",
    "    \"\"\"callback function for /start handler\"\"\"\n",
    "    author = update.message.from_user.first_name\n",
    "    reply = \"Hi! {}\".format(author)\n",
    "    bot.send_message(chat_id=update.message.chat_id, text=reply)\n",
    "\n",
    "\n",
    "def _help(bot, update):\n",
    "    \"\"\"callback function for /help handler\"\"\"\n",
    "    help_txt = \"Hey! This is a help text.\"\n",
    "    bot.send_message(chat_id=update.message.chat_id, text=help_txt)\n",
    "\n",
    "\n",
    "def reply_text(bot, update):\n",
    "    \"\"\"callback function for text message handler\"\"\"\n",
    "    intent, reply = get_reply(update.message.text, update.message.chat_id)\n",
    "    if intent == \"get_news\":\n",
    "        articles = fetch_news(reply)\n",
    "        for article in articles:\n",
    "            bot.send_message(chat_id=update.message.chat_id, text=article['link'])\n",
    "    else:\n",
    "        bot.send_message(chat_id=update.message.chat_id, text=reply)\n",
    "\n",
    "\n",
    "def echo_sticker(bot, update):\n",
    "    \"\"\"callback function for sticker message handler\"\"\"\n",
    "    bot.send_sticker(chat_id=update.message.chat_id,\n",
    "                     sticker=update.message.sticker.file_id)\n",
    "\n",
    "\n",
    "def error(bot, update):\n",
    "    \"\"\"callback function for error handler\"\"\"\n",
    "    logger.error(\"Update '%s' caused error '%s'\", update, update.error)\n",
    "\n",
    "\n",
    "if __name__ == \"__main__\":\n",
    "    bot = Bot(TOKEN)\n",
    "    bot.set_webhook(\"https://29a34cdca2b3.ngrok.io/\" + TOKEN)\n",
    "    \n",
    "    dp = Dispatcher(bot, None)\n",
    "    \n",
    "    \n",
    "    start_handler = CommandHandler('start', start)\n",
    "#     how_handler = CommandHandler('how',how)\n",
    "    echo_handler =  MessageHandler(Filters.text & (~Filters.command), reply_text)\n",
    "    emo_handler = MessageHandler(Filters.sticker, echo_sticker)\n",
    "    dp.add_handler(start_handler)\n",
    "#     dp.add_handler(how_handler)\n",
    "    dp.add_handler(echo_handler)\n",
    "    dp.add_handler(emo_handler)\n",
    "    \n",
    "    app.run(port=8443)\n",
    "#     bot = Bot(TOKEN)\n",
    "#     bot.set_webhook(\"https://29a34cdca2b3.ngrok.io/\" + TOKEN)\n",
    "\n",
    "#     dp = Dispatcher(bot, None)\n",
    "#     dp.add_handler(CommandHandler(\"start\", start))\n",
    "#     dp.add_handler(CommandHandler(\"help\", _help))\n",
    "#     dp.add_handler(MessageHandler(Filters.text, reply_text))\n",
    "#     dp.add_handler(MessageHandler(Filters.sticker, echo_sticker))\n",
    "#     dp.add_error_handler(error)\n",
    "\n",
    "#     app.run(port=8443)\n"
   ]
  }
 ],
 "metadata": {
  "kernelspec": {
   "display_name": "Python 3",
   "language": "python",
   "name": "python3"
  },
  "language_info": {
   "codemirror_mode": {
    "name": "ipython",
    "version": 3
   },
   "file_extension": ".py",
   "mimetype": "text/x-python",
   "name": "python",
   "nbconvert_exporter": "python",
   "pygments_lexer": "ipython3",
   "version": "3.9.1"
  }
 },
 "nbformat": 4,
 "nbformat_minor": 5
}
