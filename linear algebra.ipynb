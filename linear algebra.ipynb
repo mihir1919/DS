{
 "cells": [
  {
   "cell_type": "code",
   "execution_count": 18,
   "id": "beautiful-fruit",
   "metadata": {},
   "outputs": [
    {
     "data": {
      "image/png": "[encoded data removed]",
      "text/plain": [
       "<Figure size 432x288 with 1 Axes>"
      ]
     },
     "metadata": {
      "needs_background": "light"
     },
     "output_type": "display_data"
    }
   ],
   "source": [
    "import numpy as np\n",
    "T=np.zeros((5,5,3),dtype='uint8')\n",
    "\n",
    "T[ :, : ,0:2] = 255\n",
    "# Here we say include all elements of x and y rows. \n",
    "#But select only the blue part of the 3rd part of rgb\n",
    "\n",
    "import matplotlib.pyplot as plt\n",
    "\n",
    "plt.imshow(T)\n",
    "plt.show()"
   ]
  },
  {
   "cell_type": "code",
   "execution_count": 30,
   "id": "eastern-debate",
   "metadata": {},
   "outputs": [
    {
     "data": {
      "text/plain": [
       "array([[[[5, 5, 0],\n",
       "         [5, 5, 0],\n",
       "         [5, 5, 0],\n",
       "         [5, 5, 0],\n",
       "         [5, 5, 0]],\n",
       "\n",
       "        [[5, 5, 0],\n",
       "         [5, 5, 0],\n",
       "         [5, 5, 0],\n",
       "         [5, 5, 0],\n",
       "         [5, 5, 0]],\n",
       "\n",
       "        [[5, 5, 0],\n",
       "         [5, 5, 0],\n",
       "         [5, 5, 0],\n",
       "         [5, 5, 0],\n",
       "         [5, 5, 0]],\n",
       "\n",
       "        [[5, 5, 0],\n",
       "         [5, 5, 0],\n",
       "         [5, 5, 0],\n",
       "         [5, 5, 0],\n",
       "         [5, 5, 0]],\n",
       "\n",
       "        [[5, 5, 0],\n",
       "         [5, 5, 0],\n",
       "         [5, 5, 0],\n",
       "         [5, 5, 0],\n",
       "         [5, 5, 0]]],\n",
       "\n",
       "\n",
       "       [[[5, 5, 0],\n",
       "         [5, 5, 0],\n",
       "         [5, 5, 0],\n",
       "         [5, 5, 0],\n",
       "         [5, 5, 0]],\n",
       "\n",
       "        [[5, 5, 0],\n",
       "         [5, 5, 0],\n",
       "         [5, 5, 0],\n",
       "         [5, 5, 0],\n",
       "         [5, 5, 0]],\n",
       "\n",
       "        [[5, 5, 0],\n",
       "         [5, 5, 0],\n",
       "         [5, 5, 0],\n",
       "         [5, 5, 0],\n",
       "         [5, 5, 0]],\n",
       "\n",
       "        [[5, 5, 0],\n",
       "         [5, 5, 0],\n",
       "         [5, 5, 0],\n",
       "         [5, 5, 0],\n",
       "         [5, 5, 0]],\n",
       "\n",
       "        [[5, 5, 0],\n",
       "         [5, 5, 0],\n",
       "         [5, 5, 0],\n",
       "         [5, 5, 0],\n",
       "         [5, 5, 0]]],\n",
       "\n",
       "\n",
       "       [[[0, 0, 0],\n",
       "         [0, 0, 0],\n",
       "         [0, 0, 0],\n",
       "         [0, 0, 0],\n",
       "         [0, 0, 0]],\n",
       "\n",
       "        [[0, 0, 0],\n",
       "         [0, 0, 0],\n",
       "         [0, 0, 0],\n",
       "         [0, 0, 0],\n",
       "         [0, 0, 0]],\n",
       "\n",
       "        [[0, 0, 0],\n",
       "         [0, 0, 0],\n",
       "         [0, 0, 0],\n",
       "         [0, 0, 0],\n",
       "         [0, 0, 0]],\n",
       "\n",
       "        [[0, 0, 0],\n",
       "         [0, 0, 0],\n",
       "         [0, 0, 0],\n",
       "         [0, 0, 0],\n",
       "         [0, 0, 0]],\n",
       "\n",
       "        [[0, 0, 0],\n",
       "         [0, 0, 0],\n",
       "         [0, 0, 0],\n",
       "         [0, 0, 0],\n",
       "         [0, 0, 0]]]], dtype=uint8)"
      ]
     },
     "execution_count": 30,
     "metadata": {},
     "output_type": "execute_result"
    }
   ],
   "source": [
    "x=T\n",
    "# print(x.T)#Transpose\n",
    "T1 = np.transpose(x,axes=(2,0,1))\n",
    "# T1\n",
    "# plt.imshow(T1)\n",
    "# plt.show() \n",
    "np.dot(T1,T)\n",
    "# T1*T -> Hamadard multi -> used when dimenesions same"
   ]
  },
  {
   "cell_type": "code",
   "execution_count": null,
   "id": "owned-steam",
   "metadata": {},
   "outputs": [],
   "source": [
    "  "
   ]
  }
 ],
 "metadata": {
  "kernelspec": {
   "display_name": "Python 3",
   "language": "python",
   "name": "python3"
  },
  "language_info": {
   "codemirror_mode": {
    "name": "ipython",
    "version": 3
   },
   "file_extension": ".py",
   "mimetype": "text/x-python",
   "name": "python",
   "nbconvert_exporter": "python",
   "pygments_lexer": "ipython3",
   "version": "3.9.1"
  }
 },
 "nbformat": 4,
 "nbformat_minor": 5
}
