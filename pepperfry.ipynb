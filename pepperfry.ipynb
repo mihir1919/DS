{
 "cells": [
  {
   "cell_type": "code",
   "execution_count": 33,
   "id": "overhead-ambassador",
   "metadata": {},
   "outputs": [],
   "source": [
    "import json\n",
    "from urllib.request import urlopen,Request\n",
    "from bs4 import BeautifulSoup as soup\n",
    "url=\"https://www.google.com/\"\n",
    "st=\"\"\n",
    "st+=url+(soup(urlopen(url).read()).findAll(\"img\")[0].get(\"src\"))\n",
    "t=urlopen(st).read()\n",
    "with open(\"google.jpg\",\"wb\") as w:\n",
    "    w.write(t)"
   ]
  },
  {
   "cell_type": "code",
   "execution_count": 54,
   "id": "desperate-jewel",
   "metadata": {},
   "outputs": [
    {
     "name": "stdout",
     "output_type": "stream",
     "text": [
      "<div class=\"clip-crd-10x11 pf-white padding-2x1\">\n",
      "<div class=\"card-img-wrp center-xs\">\n",
      "<a data-params='{\"event\":\"productClick\",\"ecommerce\":{\"click\":{\"actionField\":{\"list\":\"Listings\"},\"products\":[null]}}}' href=\"https://www.pepperfry.com/takai-queen-size-bed-in-wenge-finish-by-mintwud-1643645.html?type=clip&amp;pos=1:1&amp;cat=321&amp;total_result=339&amp;variation_id=209326\" target=\"_blank\">\n",
      "<img alt=\"Takai Queen Size Bed in Wenge Finish\" data-src=\"https://ii2.pepperfry.com/media/catalog/product/t/a/236x260/takai-queen-size-bed-in-wenge-finish-by-mintwud-takai-queen-size-bed-in-wenge-finish-by-mintwud-nftwsk.jpg\" src=\"https://ii1.pepperfry.com/img/grey.gif\"/> </a>\n",
      "<div class=\"clip-add-to-cart-btn-wrap\">\n",
      "<a class=\"clip-add-to-cart-btn\" href=\"javascript://\" onclick=\"PF.UTILITIES.addToCart(1643645, 1)\">Add To Cart</a> <input class=\"product_details\" data-expressshipping=\"1\" data-featuremodel=\"\" data-position=\"1:1\" data-price=\"11999\" data-promotext=\"VALENTINE\" data-sku=\"FN1643645-P-WH5046\" type=\"hidden\"/>\n",
      "</div>\n",
      "</div>\n",
      "<div class=\"clip-card-more-prdct pf-margin-5\">\n",
      "<a href=\"https://www.pepperfry.com/takai-queen-size-bed-in-wenge-finish-by-mintwud-1643645.html?type=clip&amp;pos=1:1&amp;cat=321&amp;total_result=339&amp;variation_id=209326\" target=\"_blank\"> </a>\n",
      "</div>\n",
      "<div class=\"clip-dtl-ttl row\">\n",
      "<div class=\"pf-col xs-12\">\n",
      "<h2>\n",
      "<!--Doubt-->\n",
      "<!--<a href=\"https://www.pepperfry.com/andres-one-seater-sofa-in-charcoal-grey-colour-by-woodsworth-1745912.html?type=clip&amp;pos=26:1&catname=One+Seater+Sofas&total_result=607\" target=\"_blank\" onclick='dataLayer.push({\"event\":\"productClick\",\"ecommerce\":{\"click\":{\"actionField\":{\"list\":\"Listings\"},\"products\":[null]}}})' class=\"clip-prd-dtl\" title=\"Andres One Seater Sofa in Charcoal Grey Colour\">Andres One Seater Sofa in Charcoal Grey Colour</a>-->\n",
      "<a class=\"clip-prd-dtl\" href=\"https://www.pepperfry.com/takai-queen-size-bed-in-wenge-finish-by-mintwud-1643645.html?type=clip&amp;pos=1:1&amp;cat=321&amp;total_result=339&amp;variation_id=209326\" onclick='dataLayer.push({\"event\":\"productClick\",\"ecommerce\":{\"click\":{\"actionField\":{\"list\":\"Listings\"},\"products\":[null]}}})' target=\"_blank\" title=\"Takai Queen Size Bed in Wenge Finish\">Takai Queen Size Bed in Wenge Finish</a>\n",
      "</h2>\n",
      "</div>\n",
      "</div>\n",
      "<div class=\"row clip-dtl-brand\">\n",
      "<div class=\"pf-col xs-10\">\n",
      "<a class=\"clip-dtl-brand-name\" href=\"https://www.pepperfry.com/brands/mintwud.html?cat=321\">Mintwud by Pepperfry</a>\n",
      "</div>\n",
      "<div class=\"clip-prd-hrt pf-col xs-2\">\n",
      "<a class=\"clip-heart-icn pf-right\" data-pagetype=\"clip\" data-productid=\"1643645\" data-productname=\"Takai Queen Size Bed in Wenge Finish\" data-tooltip=\"Add to Wishlist\" href=\"javascript:;\" id=\"clip_wishlist_1643645\"></a>\n",
      "</div>\n",
      "</div>\n",
      "<div class=\"clip-price-blocks row pf-margin-10 middle-xs\">\n",
      "<div class=\"pf-col xs-12\">\n",
      "<span class=\"clip-offr-price\">₹ 11,999</span>\n",
      "<span class=\"clip-retail-price pf-text-dark-grey font-12 pf-strike\">₹ 22,997</span>\n",
      "</div>\n",
      "</div>\n",
      "<div class=\"row clip-ofr-row\">\n",
      "<div class=\"pf-col xs-12\">\n",
      "<div class=\"clip-ofr-wrap font-12 pf-text-grey\">Save ₹ <span class=\"clip-ofr-save-price\">10,998</span> <span class=\"clip-ofr-save-per\">(48% Off)</span>, Limited Time Offer</div>\n",
      "<div class=\"clip__caskback-text\"> Extra Cashback Worth ₹ 10,000. </div>\n",
      "</div>\n",
      "</div>\n",
      "<div class=\"card-tag-wrapper\">\n",
      "<span class=\"best_seller\"> Best Seller</span>\n",
      "</div>\n",
      "<div class=\"row clip-ship-row\">\n",
      "<div class=\"pf-col xs-12\">\n",
      "<div class=\"clip-ship-warp\">\n",
      "<img class=\"clip-ship-img\" src=\"https://ii1.pepperfry.com/images/svg/clip-exp-ship-icon-2018.svg\"/>\n",
      "<span class=\"clip-ship-txt font-12 pf-text-dark-grey\">Ships In 1 Day</span>\n",
      "</div>\n",
      "</div>\n",
      "</div>\n",
      "</div>\n"
     ]
    }
   ],
   "source": [
    "site= \"https://www.pepperfry.com/furniture-beds-queen-sized-beds.html?type=hp-footer-links-1\"\n",
    "hdr = {'User-Agent': 'Mozilla/5.0'}\n",
    "req = Request(site,headers=hdr)\n",
    "page = urlopen(req)\n",
    "spage=((soup(page.read())).findAll(\"div\",{\"class\":\"clip-crd-10x11 pf-white padding-2x1\"})[0])\n",
    "# .findAll(\"img\")[0].get(\"data-src\")\n",
    "print(spage)"
   ]
  }
 ],
 "metadata": {
  "kernelspec": {
   "display_name": "Python 3",
   "language": "python",
   "name": "python3"
  },
  "language_info": {
   "codemirror_mode": {
    "name": "ipython",
    "version": 3
   },
   "file_extension": ".py",
   "mimetype": "text/x-python",
   "name": "python",
   "nbconvert_exporter": "python",
   "pygments_lexer": "ipython3",
   "version": "3.9.1"
  }
 },
 "nbformat": 4,
 "nbformat_minor": 5
}
