{
 "cells": [
  {
   "cell_type": "code",
   "execution_count": 34,
   "id": "minor-durham",
   "metadata": {},
   "outputs": [],
   "source": [
    "import pandas as pd\n",
    "import numpy as np\n",
    "import matplotlib.pyplot as plt\n",
    "from sklearn.linear_model import LogisticRegression"
   ]
  },
  {
   "cell_type": "code",
   "execution_count": 35,
   "id": "faced-celebration",
   "metadata": {},
   "outputs": [],
   "source": [
    "model=LogisticRegression()"
   ]
  },
  {
   "cell_type": "code",
   "execution_count": 37,
   "id": "precious-blanket",
   "metadata": {},
   "outputs": [],
   "source": [
    "a=pd.read_csv(\"Logxtest.csv\")\n",
    "b=pd.read_csv(\"Logxtrain.csv\")\n",
    "c=pd.read_csv(\"Logytrain.csv\")\n",
    "# a=pd.read_csv(\"Logxtest.csv\")"
   ]
  },
  {
   "cell_type": "code",
   "execution_count": 38,
   "id": "subjective-chick",
   "metadata": {},
   "outputs": [],
   "source": [
    "av=a.values"
   ]
  },
  {
   "cell_type": "code",
   "execution_count": 39,
   "id": "advanced-producer",
   "metadata": {},
   "outputs": [],
   "source": [
    "bv=b.values\n",
    "cv=c.values"
   ]
  },
  {
   "cell_type": "code",
   "execution_count": 40,
   "id": "aerial-girlfriend",
   "metadata": {},
   "outputs": [
    {
     "name": "stderr",
     "output_type": "stream",
     "text": [
      "c:\\users\\mihir\\appdata\\local\\programs\\python\\python39\\lib\\site-packages\\sklearn\\utils\\validation.py:63: DataConversionWarning: A column-vector y was passed when a 1d array was expected. Please change the shape of y to (n_samples, ), for example using ravel().\n",
      "  return f(*args, **kwargs)\n"
     ]
    },
    {
     "data": {
      "text/plain": [
       "LogisticRegression()"
      ]
     },
     "execution_count": 40,
     "metadata": {},
     "output_type": "execute_result"
    }
   ],
   "source": [
    "model.fit(bv,cv)"
   ]
  },
  {
   "cell_type": "code",
   "execution_count": 41,
   "id": "stainless-myanmar",
   "metadata": {},
   "outputs": [],
   "source": [
    "theta_0 = model.intercept_\n",
    "\n",
    "theta_1 = model.coef_\n"
   ]
  },
  {
   "cell_type": "code",
   "execution_count": 47,
   "id": "expired-horizon",
   "metadata": {},
   "outputs": [
    {
     "data": {
      "text/plain": [
       "(array([-4.27017148]), array([[-3.92798396,  3.10147056, -2.28040541]]))"
      ]
     },
     "execution_count": 47,
     "metadata": {},
     "output_type": "execute_result"
    }
   ],
   "source": [
    "theta_0,theta_1"
   ]
  },
  {
   "cell_type": "code",
   "execution_count": 48,
   "id": "absent-belgium",
   "metadata": {},
   "outputs": [],
   "source": [
    "r=model.predict(av)"
   ]
  },
  {
   "cell_type": "code",
   "execution_count": 50,
   "id": "productive-south",
   "metadata": {},
   "outputs": [],
   "source": [
    "ans=pd.DataFrame(r,columns=[\"label\"])"
   ]
  },
  {
   "cell_type": "code",
   "execution_count": null,
   "id": "julian-brazil",
   "metadata": {},
   "outputs": [],
   "source": []
  },
  {
   "cell_type": "code",
   "execution_count": 51,
   "id": "active-observer",
   "metadata": {},
   "outputs": [],
   "source": [
    "ans.to_csv('ans_log.csv',index=False)"
   ]
  },
  {
   "cell_type": "code",
   "execution_count": null,
   "id": "unusual-digest",
   "metadata": {},
   "outputs": [],
   "source": []
  }
 ],
 "metadata": {
  "kernelspec": {
   "display_name": "Python 3",
   "language": "python",
   "name": "python3"
  },
  "language_info": {
   "codemirror_mode": {
    "name": "ipython",
    "version": 3
   },
   "file_extension": ".py",
   "mimetype": "text/x-python",
   "name": "python",
   "nbconvert_exporter": "python",
   "pygments_lexer": "ipython3",
   "version": "3.9.1"
  }
 },
 "nbformat": 4,
 "nbformat_minor": 5
}
