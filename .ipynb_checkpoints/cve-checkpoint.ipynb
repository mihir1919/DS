{
 "cells": [
  {
   "cell_type": "code",
   "execution_count": 137,
   "id": "sharp-navigator",
   "metadata": {},
   "outputs": [],
   "source": [
    "import numpy as np"
   ]
  },
  {
   "cell_type": "code",
   "execution_count": 138,
   "id": "considered-friendly",
   "metadata": {},
   "outputs": [],
   "source": [
    "import pandas as pd"
   ]
  },
  {
   "cell_type": "code",
   "execution_count": 139,
   "id": "driven-feelings",
   "metadata": {},
   "outputs": [],
   "source": [
    "df=pd.read_csv(\"CSW_CTF_Task_1_1.csv\")"
   ]
  },
  {
   "cell_type": "code",
   "execution_count": 140,
   "id": "agricultural-replication",
   "metadata": {},
   "outputs": [],
   "source": [
    "desc=pd.read_csv(\"allitems.csv\")"
   ]
  },
  {
   "cell_type": "code",
   "execution_count": 141,
   "id": "invisible-subject",
   "metadata": {},
   "outputs": [
    {
     "data": {
      "text/html": [
       "<div>\n",
       "<style scoped>\n",
       "    .dataframe tbody tr th:only-of-type {\n",
       "        vertical-align: middle;\n",
       "    }\n",
       "\n",
       "    .dataframe tbody tr th {\n",
       "        vertical-align: top;\n",
       "    }\n",
       "\n",
       "    .dataframe thead th {\n",
       "        text-align: right;\n",
       "    }\n",
       "</style>\n",
       "<table border=\"1\" class=\"dataframe\">\n",
       "  <thead>\n",
       "    <tr style=\"text-align: right;\">\n",
       "      <th></th>\n",
       "      <th>CVE</th>\n",
       "    </tr>\n",
       "  </thead>\n",
       "  <tbody>\n",
       "    <tr>\n",
       "      <th>0</th>\n",
       "      <td>CVE-2020-12712</td>\n",
       "    </tr>\n",
       "    <tr>\n",
       "      <th>1</th>\n",
       "      <td>CVE-2020-3956</td>\n",
       "    </tr>\n",
       "    <tr>\n",
       "      <th>2</th>\n",
       "      <td>CVE-2020-0796</td>\n",
       "    </tr>\n",
       "    <tr>\n",
       "      <th>3</th>\n",
       "      <td>CVE-2020-8617</td>\n",
       "    </tr>\n",
       "    <tr>\n",
       "      <th>4</th>\n",
       "      <td>CVE-2020-13166</td>\n",
       "    </tr>\n",
       "  </tbody>\n",
       "</table>\n",
       "</div>"
      ],
      "text/plain": [
       "              CVE\n",
       "0  CVE-2020-12712\n",
       "1   CVE-2020-3956\n",
       "2   CVE-2020-0796\n",
       "3   CVE-2020-8617\n",
       "4  CVE-2020-13166"
      ]
     },
     "execution_count": 141,
     "metadata": {},
     "output_type": "execute_result"
    }
   ],
   "source": [
    "df.head()"
   ]
  },
  {
   "cell_type": "code",
   "execution_count": 142,
   "id": "danish-heath",
   "metadata": {},
   "outputs": [],
   "source": [
    "(desc.loc[desc['Name'] == \"CVE-2020-0003\"])[\"Description\"].values[0]\n",
    "df['type'] = pd.Series(1, index=df.index)\n",
    "\n",
    "df=df.values\n"
   ]
  },
  {
   "cell_type": "code",
   "execution_count": 143,
   "id": "latter-mayor",
   "metadata": {},
   "outputs": [],
   "source": [
    "from difflib import SequenceMatcher\n",
    "\n",
    "def similar(a, b):\n",
    "    return SequenceMatcher(None, a, b).ratio()"
   ]
  },
  {
   "cell_type": "code",
   "execution_count": 144,
   "id": "synthetic-explorer",
   "metadata": {},
   "outputs": [],
   "source": [
    "\n",
    "for i in df[:30]:\n",
    "    s=((desc.loc[desc['Name'] == i[0]])[\"Description\"].values[0]).split(\" \")\n",
    "#     print((desc.loc[desc['Name'] == i[0]])[\"Description\"].values[0])\n",
    "    s=[x.lower() for x in s]\n",
    "#     print(s)\n",
    "    for j in s:\n",
    "        if(similar(j,'remote')>0.9 or similar(j,'code')>0.9 or similar(j,'execution')>0.9):\n",
    "            i[1]='Remote Code Execution(RCE)'\n",
    "        elif(similar(j,\"privilege\")>0.9 or similar(j,\"escalation\")>0.9):\n",
    "            i[1]=\"Privilege Escalation\"\n",
    "        elif(similar(j,\"denial\")>0.9 or similar(j,\"service\")>0.9):\n",
    "            i[1]=\"Denial of Service(DOS)\"\n",
    "        elif(similar(j,\"webapp\")>0.9):\n",
    "            i[1]=\"WebApp\"\n",
    "    if(i[1]==1):\n",
    "        if('vulnerability' in s):\n",
    "            i[1]=' '.join((s[(s.index('vulnerability')-2):(s.index('vulnerability')+1)]))\n",
    "#             print('f')\n",
    "        else:\n",
    "            i[1]='NA'    "
   ]
  },
  {
   "cell_type": "code",
   "execution_count": 145,
   "id": "hindu-dating",
   "metadata": {},
   "outputs": [
    {
     "name": "stdout",
     "output_type": "stream",
     "text": [
      "[['CVE-2020-12712' '']\n",
      " ['CVE-2020-3956' 'Remote Code Execution(RCE)']\n",
      " ['CVE-2020-0796' 'Remote Code Execution(RCE)']\n",
      " ['CVE-2020-8617' 'NA']\n",
      " ['CVE-2020-13166' 'Remote Code Execution(RCE)']\n",
      " ['CVE-2020-7961' 'Denial of Service(DOS)']\n",
      " ['CVE-2020-10883' 'Remote Code Execution(RCE)']\n",
      " ['CVE-2020-10882' 'Remote Code Execution(RCE)']\n",
      " ['CVE-2020-10884' 'Remote Code Execution(RCE)']\n",
      " ['CVE-2020-10199' 'NA']\n",
      " ['CVE-2020-3950' 'Privilege Escalation']\n",
      " ['CVE-2020-3161' 'Privilege Escalation']\n",
      " ['CVE-2020-8644' 'NA']\n",
      " ['CVE-2020-5735' 'Remote Code Execution(RCE)']\n",
      " ['CVE-2020-12242' 'Privilege Escalation']\n",
      " ['CVE-2020-2944' 'Privilege Escalation']\n",
      " ['CVE-2020-6857' 'NA']\n",
      " ['CVE-2020-5752' 'NA']\n",
      " ['CVE-2020-2555' '']\n",
      " ['CVE-2020-12608' 'Remote Code Execution(RCE)']\n",
      " ['CVE-2020-13228' 'NA']\n",
      " ['CVE-2020-5515' 'NA']\n",
      " ['CVE-2020-7030' 'information disclosure vulnerability']\n",
      " ['CVE-2020-14943' 'NA']\n",
      " ['CVE-2020-5902' 'Remote Code Execution(RCE)']\n",
      " ['CVE-2020-15599' 'NA']\n",
      " ['CVE-2020-14947' 'Remote Code Execution(RCE)']\n",
      " ['CVE-2020-14945' 'Privilege Escalation']\n",
      " ['CVE-2020-14944' 'NA']\n",
      " ['CVE-2020-15046' 'Remote Code Execution(RCE)']]\n"
     ]
    }
   ],
   "source": [
    "print(df[:30])"
   ]
  },
  {
   "cell_type": "code",
   "execution_count": null,
   "id": "international-belfast",
   "metadata": {},
   "outputs": [],
   "source": []
  },
  {
   "cell_type": "code",
   "execution_count": null,
   "id": "unusual-diana",
   "metadata": {},
   "outputs": [],
   "source": []
  },
  {
   "cell_type": "code",
   "execution_count": null,
   "id": "narrative-protest",
   "metadata": {},
   "outputs": [],
   "source": []
  }
 ],
 "metadata": {
  "kernelspec": {
   "display_name": "Python 3",
   "language": "python",
   "name": "python3"
  },
  "language_info": {
   "codemirror_mode": {
    "name": "ipython",
    "version": 3
   },
   "file_extension": ".py",
   "mimetype": "text/x-python",
   "name": "python",
   "nbconvert_exporter": "python",
   "pygments_lexer": "ipython3",
   "version": "3.9.1"
  }
 },
 "nbformat": 4,
 "nbformat_minor": 5
}
