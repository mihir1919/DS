{
 "cells": [
  {
   "cell_type": "code",
   "execution_count": 138,
   "id": "settled-monthly",
   "metadata": {},
   "outputs": [],
   "source": [
    "from urllib.request import urlopen\n",
    "au=\"https://en.wikipedia.org/wiki/Android_version_history\"\n",
    "ad=urlopen(au)#opens url\n",
    "# print(ad)\n",
    "\n",
    "ah=ad.read()#reads url data and stored as entire html\n",
    "# print(ah)"
   ]
  },
  {
   "cell_type": "code",
   "execution_count": 137,
   "id": "suspected-arbitration",
   "metadata": {},
   "outputs": [],
   "source": [
    "from bs4 import BeautifulSoup as soup\n",
    "asoup=soup(ah,'html.parser')\n",
    "# print(asoup) prints the whole html formatted\n",
    "# print(asoup.h1)#the first h1\n",
    "# print(asoup.findAll('h2',{}))#all h2 in a list\n",
    "# print((asoup.findAll('table',{'class':'wikitable'}))).text"
   ]
  },
  {
   "cell_type": "code",
   "execution_count": 234,
   "id": "imperial-challenge",
   "metadata": {},
   "outputs": [
    {
     "data": {
      "text/plain": [
       "['No official codename,1.0,September 23,2008,No,1,[9][14]',\n",
       " '1.1,February 9,2009,No,2,[9][14][15]',\n",
       " 'Cupcake,1.5,April 27,2009,No,3,[14][16]',\n",
       " 'Donut,1.6,September 15,2009,No,4,[14][17]',\n",
       " 'Eclair,2.0 – 2.1,October 26,2009,No,5 – 7,[14][18]',\n",
       " 'Froyo,2.2 – 2.2.3,May 20,2010,No,8,[14][19]',\n",
       " 'Gingerbread,2.3 – 2.3.7,December 6,2010,No,9 – 10,[14][20]',\n",
       " 'Honeycomb,3.0 – 3.2.6,February 22,2011,No,11 – 13,[14][21]',\n",
       " 'Ice Cream Sandwich,4.0 – 4.0.4,October 18,2011,No,14 – 15,[14][22]',\n",
       " 'Jelly Bean,4.1 – 4.3.1,July 9,2012,No,16 – 18,[14][23]',\n",
       " 'KitKat,4.4 – 4.4.4,October 31,2013,No,19 – 20,[14][24]',\n",
       " 'Lollipop,5.0 – 5.1.1,November 12,2014,No,21 – 22,[14][25]',\n",
       " 'Marshmallow,6.0 – 6.0.1,October 5,2015,No,23,[14][26]',\n",
       " 'Nougat,7.0 – 7.1.2,August 22,2016,No,24 – 25,[14][27][28][29][30]',\n",
       " 'Oreo,8.0 – 8.1,August 21,2017,Yes,26 – 27,[14][31]',\n",
       " 'Pie,9,August 6,2018,Yes,28,[14][32]',\n",
       " 'Android 10,10,September 3,2019,Yes,29,[14][33][34]',\n",
       " 'Android 11,11,September 8,2020,Yes,30,[14][35]']"
      ]
     },
     "execution_count": 234,
     "metadata": {},
     "output_type": "execute_result"
    }
   ],
   "source": [
    "d=(((asoup.table).findAll('th',{})))\n",
    "headers=[]\n",
    "for i in d:\n",
    "    headers.append(i.text[:-1])\n",
    "# print(headers)\n",
    "\n",
    "r=(((asoup.table).findAll('tr',{})))[1:]\n",
    "rest=[]\n",
    "for i in r:\n",
    "    rest.append(i.text.strip(\"\\n\").replace(\", \",\",\").replace(\"\\n\\n\",\"\\n\").replace(\"\\n\",\",\"))\n",
    "rest\n",
    "# rest=[]\n",
    "# for i in r[1:]:\n",
    "#     p=[]\n",
    "#     rest.append(i.text)\n",
    "# #     rest.append(p)\n",
    "# print(rest)"
   ]
  },
  {
   "cell_type": "code",
   "execution_count": null,
   "id": "mysterious-pipeline",
   "metadata": {},
   "outputs": [],
   "source": [
    "fname=\"data.csv\"\n",
    "with open(fname,'w',encoding='utf-8') as f:\n",
    "    hs=','.join(header)\n",
    "    hs+=\"\\n\"\n",
    "    f.write(hs)"
   ]
  }
 ],
 "metadata": {
  "kernelspec": {
   "display_name": "Python 3",
   "language": "python",
   "name": "python3"
  },
  "language_info": {
   "codemirror_mode": {
    "name": "ipython",
    "version": 3
   },
   "file_extension": ".py",
   "mimetype": "text/x-python",
   "name": "python",
   "nbconvert_exporter": "python",
   "pygments_lexer": "ipython3",
   "version": "3.9.1"
  }
 },
 "nbformat": 4,
 "nbformat_minor": 5
}
