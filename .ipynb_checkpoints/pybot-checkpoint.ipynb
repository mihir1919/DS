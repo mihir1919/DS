{
 "cells": [
  {
   "cell_type": "code",
   "execution_count": 1,
   "id": "3bb6fb09",
   "metadata": {},
   "outputs": [
    {
     "name": "stdout",
     "output_type": "stream",
     "text": [
      "None\n"
     ]
    }
   ],
   "source": [
    "import logging\n",
    "from flask import Flask, request\n",
    "from telegram.ext import Updater, CommandHandler, MessageHandler, Filters, Dispatcher\n",
    "from telegram import Bot, Update\n",
    "logging.basicConfig(level=logging.DEBUG,format='%(asctime)s - %(name)s - %(levelname)s - %(message)s')\n",
    "logger = logging.getLogger()\n",
    "print(logger.setLevel(logging.INFO))\n",
    "# from telegram.ext import Updater#this is used to start updater which has a job of a polling server\n",
    "# from telegram.ext import CommandHandler,MessageHandler,Filters#this is picked up from github doc diff from cb\n",
    "TOKEN=\"1689415388:AAGbsnbRpz1xXwsTt8e6CVOakxi0n-w3nIY\""
   ]
  },
  {
   "cell_type": "code",
   "execution_count": 2,
   "id": "dental-medline",
   "metadata": {},
   "outputs": [
    {
     "name": "stderr",
     "output_type": "stream",
     "text": [
      "c:\\users\\mihir\\appdata\\local\\programs\\python\\python39\\lib\\site-packages\\fuzzywuzzy\\fuzz.py:11: UserWarning: Using slow pure-python SequenceMatcher. Install python-Levenshtein to remove this warning\n",
      "  warnings.warn('Using slow pure-python SequenceMatcher. Install python-Levenshtein to remove this warning')\n"
     ]
    }
   ],
   "source": [
    "import os\n",
    "from gnewsclient import gnewsclient\n",
    "import dialogflow_v2 as dialogflow"
   ]
  },
  {
   "cell_type": "code",
   "execution_count": 3,
   "id": "delayed-salvation",
   "metadata": {},
   "outputs": [],
   "source": [
    "os.environ[\"GOOGLE_APPLICATION_CREDENTIALS\"] = \"client.json\"\n",
    "dialogflow_session_client = dialogflow.SessionsClient()\n",
    "PROJECT_ID = \"newsbot-misy\"\n",
    "\n",
    "client = gnewsclient.NewsClient()\n",
    "\n",
    "\n",
    "def detect_intent_from_text(text, session_id, language_code='en'):\n",
    "    session = dialogflow_session_client.session_path(PROJECT_ID, session_id)\n",
    "    text_input = dialogflow.types.TextInput(text=text, language_code=language_code)\n",
    "    query_input = dialogflow.types.QueryInput(text=text_input)\n",
    "    response = dialogflow_session_client.detect_intent(session=session, query_input=query_input)\n",
    "    return response.query_result\n",
    "\n",
    "\n",
    "def get_reply(query, chat_id):\n",
    "    response = detect_intent_from_text(query, chat_id)\n",
    "\n",
    "    if response.intent.display_name == 'get_news':\n",
    "        return \"get_news\", dict(response.parameters)\n",
    "    else:\n",
    "        return \"small_talk\", response.fulfillment_text\n",
    "\n",
    "\n",
    "def fetch_news(parameters):\n",
    "    client.language = parameters.get('language')\n",
    "    client.location = parameters.get('geo-country')\n",
    "    client.topic = parameters.get('topic')\n",
    "    return client.get_news()[:5]\n"
   ]
  },
  {
   "cell_type": "code",
   "execution_count": 4,
   "id": "published-providence",
   "metadata": {},
   "outputs": [],
   "source": [
    "# intent, reply=get_reply(\"Get me national news in Hindi\",1245)\n",
    "# if intent == \"get_news\":\n",
    "#     articles = fetch_news(reply)\n",
    "#     for article in articles:\n",
    "#         print(article['link'])\n",
    "# else:\n",
    "#     print(reply)"
   ]
  },
  {
   "cell_type": "code",
   "execution_count": null,
   "id": "42d52e38",
   "metadata": {},
   "outputs": [
    {
     "name": "stdout",
     "output_type": "stream",
     "text": [
      " * Serving Flask app '__main__' (lazy loading)\n",
      " * Environment: production\n",
      "   WARNING: This is a development server. Do not use it in a production deployment.\n",
      "   Use a production WSGI server instead.\n",
      " * Debug mode: off\n"
     ]
    },
    {
     "name": "stderr",
     "output_type": "stream",
     "text": [
      "2021-05-31 20:14:37,630 - werkzeug - INFO -  * Running on http://127.0.0.1:8443/ (Press CTRL+C to quit)\n",
      "2021-05-31 20:14:50,266 - root - WARNING - Applied processor reduces input query to empty string, all comparisons will have score 0. [Query: '']\n",
      "2021-05-31 20:14:51,250 - werkzeug - INFO - 127.0.0.1 - - [31/May/2021 20:14:51] \"POST /1689415388:AAGbsnbRpz1xXwsTt8e6CVOakxi0n-w3nIY HTTP/1.1\" 200 -\n"
     ]
    },
    {
     "name": "stdout",
     "output_type": "stream",
     "text": [
      "[]\n"
     ]
    }
   ],
   "source": [
    "app = Flask(__name__)\n",
    "\n",
    "@app.route('/')\n",
    "def index():\n",
    "    return \"Hello!\"\n",
    "\n",
    "\n",
    "@app.route(f'/{TOKEN}', methods=['GET', 'POST'])\n",
    "def webhook():\n",
    "    \"\"\"webhook view which receives updates from telegram\"\"\"\n",
    "    # create update object from json-format request data\n",
    "    update = Update.de_json(request.get_json(), bot)\n",
    "    # process update\n",
    "    dp.process_update(update)\n",
    "    return \"ok\"\n",
    "    \n",
    "def how(update,context):\n",
    "    context.bot.send_message(chat_id=update.effective_chat.id, text=\"I'm fine thank you!\")\n",
    "    \n",
    "def start(update, context):\n",
    "#     print(update)\n",
    "#     print(context)\n",
    "    context.bot.send_message(chat_id=update.effective_chat.id, text=\"Hi {} I'm a bot, please talk to me!\".format(update.message.from_user.first_name+\" \"+update.message.from_user.last_name))\n",
    "    \n",
    "def echo(update, context):\n",
    "    context.bot.send_message(chat_id=update.effective_chat.id, text=update.message.text)\n",
    "\n",
    "def emo(update,context):\n",
    "    context.bot.send_sticker(chat_id=update.effective_chat.id, sticker=update.message.sticker.file_id)\n",
    "\n",
    "def error(bot, update, error):\n",
    "    if not (error.message == \"Message is not modified\"):\n",
    "        logger.warning('Update \"%s\" caused error \"%s\"' % (update, error))\n",
    "        \n",
    "def reply_text(update, context):\n",
    "#     context.bot.send_message(chat_id=update.effective_chat.id, text=update.message.text)\n",
    "    \"\"\"callback function for text message handler\"\"\"\n",
    "    intent, reply = get_reply(update.message.text, update.effective_chat.id)\n",
    "    if intent == \"get_news\":\n",
    "        articles = fetch_news(reply)\n",
    "        if(len(articles)==0):\n",
    "            context.bot.send_message(chat_id=update.effective_chat.id, text=\"Please try to write message using news type(Ex:Sports,Technology), News Language(Ex:English,Hindi)\")\n",
    "        else:\n",
    "            for article in articles:\n",
    "                context.bot.send_message(chat_id=update.effective_chat.id, text=article['link'])\n",
    "    else:\n",
    "        context.bot.send_message(chat_id=update.effective_chat.id, text=reply)\n",
    "        \n",
    "# def main():\n",
    "#     updater=Updater(TOKEN)#try to recieve updates from telegram server\n",
    "    \n",
    "#     dp = updater.dispatcher#handling updates\n",
    "\n",
    "    \n",
    "#     dp.error_handler(error)\n",
    "#     updater.start_polling()\n",
    "# #     updater.stop()\n",
    "#     updater.idle()\n",
    "    \n",
    "if __name__==\"__main__\":\n",
    "    bot = Bot(TOKEN)\n",
    "    bot.set_webhook(\"https://b3383beb4252.ngrok.io/\" + TOKEN)\n",
    "    \n",
    "    dp = Dispatcher(bot, None)\n",
    "    \n",
    "    \n",
    "    start_handler = CommandHandler('start', start)\n",
    "    how_handler = CommandHandler('how',how)\n",
    "    echo_handler =  MessageHandler(Filters.text & (~Filters.command), reply_text)\n",
    "    emo_handler = MessageHandler(Filters.sticker, emo)\n",
    "    dp.add_handler(start_handler)\n",
    "    dp.add_handler(how_handler)\n",
    "    dp.add_handler(echo_handler)\n",
    "    dp.add_handler(emo_handler)\n",
    "    \n",
    "    app.run(port=8443)\n"
   ]
  },
  {
   "cell_type": "code",
   "execution_count": null,
   "id": "f0c4fa4d",
   "metadata": {},
   "outputs": [],
   "source": []
  },
  {
   "cell_type": "code",
   "execution_count": null,
   "id": "egyptian-spending",
   "metadata": {},
   "outputs": [],
   "source": []
  }
 ],
 "metadata": {
  "kernelspec": {
   "display_name": "Python 3",
   "language": "python",
   "name": "python3"
  },
  "language_info": {
   "codemirror_mode": {
    "name": "ipython",
    "version": 3
   },
   "file_extension": ".py",
   "mimetype": "text/x-python",
   "name": "python",
   "nbconvert_exporter": "python",
   "pygments_lexer": "ipython3",
   "version": "3.9.1"
  }
 },
 "nbformat": 4,
 "nbformat_minor": 5
}
