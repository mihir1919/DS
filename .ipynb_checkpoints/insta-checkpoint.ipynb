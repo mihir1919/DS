{
 "cells": [
  {
   "cell_type": "code",
   "execution_count": 7,
   "id": "distant-bailey",
   "metadata": {},
   "outputs": [],
   "source": [
    "from selenium import webdriver\n",
    "from time import sleep\n",
    "import requests # to get image from the web\n",
    "import shutil # to save it locally\n",
    "import json\n",
    "import os\n",
    "import time\n",
    "from bs4 import BeautifulSoup"
   ]
  },
  {
   "cell_type": "code",
   "execution_count": 8,
   "id": "republican-granny",
   "metadata": {},
   "outputs": [],
   "source": [
    "driver = webdriver.Chrome()"
   ]
  },
  {
   "cell_type": "code",
   "execution_count": 9,
   "id": "alpha-acrobat",
   "metadata": {},
   "outputs": [],
   "source": [
    "driver.get('https://www.instagram.com/')\n",
    "sleep(2)"
   ]
  },
  {
   "cell_type": "code",
   "execution_count": 10,
   "id": "north-physics",
   "metadata": {},
   "outputs": [],
   "source": [
    "name=driver.find_element_by_xpath('/html/body/div[1]/section/main/article/div[2]/div[1]/div/form/div/div[1]/div/label/input')\n",
    "name.send_keys('_getvaccinated_')"
   ]
  },
  {
   "cell_type": "code",
   "execution_count": 11,
   "id": "contained-senator",
   "metadata": {},
   "outputs": [],
   "source": [
    "password = driver.find_element_by_xpath('/html/body/div[1]/section/main/article/div[2]/div[1]/div/form/div/div[2]/div/label/input')\n",
    "password.send_keys('mihirjack19')"
   ]
  },
  {
   "cell_type": "code",
   "execution_count": 12,
   "id": "systematic-campus",
   "metadata": {},
   "outputs": [],
   "source": [
    "login = driver.find_element_by_xpath('/html/body/div[1]/section/main/article/div[2]/div[1]/div/form/div/div[3]/button')\n",
    "login.click()\n",
    "\n",
    "sleep(4)\n",
    "\n",
    "red = driver.find_element_by_xpath('/html/body/div[1]/section/main/div/div/div/div/button')\n",
    "red.click()\n",
    "\n",
    "red = driver.find_element_by_xpath('/html/body/div[4]/div/div/div/div[3]/button[2]')\n",
    "red.click()\n"
   ]
  },
  {
   "cell_type": "code",
   "execution_count": 22,
   "id": "organized-ontario",
   "metadata": {},
   "outputs": [],
   "source": [
    "urls=[\"https://www.instagram.com/explore/tags/like4likes/\",'https://www.instagram.com/explore/tags/likeforlikes/',\"https://www.instagram.com/explore/tags/l4l/\",\"https://www.instagram.com/explore/tags/likebackteam/\",\"https://www.instagram.com/explore/tags/liking/\",\"https://www.instagram.com/explore/tags/likesforlikes/\"]\n",
    "for h in urls:\n",
    "    driver.get(h)\n",
    "\n",
    "    sleep(3)\n",
    "\n",
    "    SCROLL_PAUSE_TIME = 0.5\n",
    "\n",
    "    # Get scroll height\n",
    "    last_height = driver.execute_script(\"return document.body.scrollHeight\")\n",
    "    k=0\n",
    "    while k<1:\n",
    "        k+=1\n",
    "        # Scroll down to bottom\n",
    "        driver.execute_script(\"window.scrollTo(0, document.body.scrollHeight);\")\n",
    "\n",
    "        # Wait to load page\n",
    "    #     time.sleep(SCROLL_PAUSE_TIME)\n",
    "        sleep(2)\n",
    "\n",
    "        # Calculate new scroll height and compare with last scroll height\n",
    "    #     new_height = driver.execute_script(\"return document.body.scrollHeight\")\n",
    "    #     if new_height == last_height:\n",
    "    #         break\n",
    "    #     last_height = new_height\n",
    "    html = driver.page_source\n",
    "\n",
    "    soup = BeautifulSoup(html)\n",
    "    l=[]\n",
    "    mydivs = soup.find_all(\"div\", {\"class\": \"v1Nh3 kIKUG _bz0w\"})\n",
    "    # st=(mydivs[0].find_all('a'))[0]['href']\n",
    "    # d=((soup).findAll('div'))\n",
    "    # print(soup.find_all('div'))\n",
    "    # # for tag in soup.find_all('a',{\"class\":\"example\"}):\n",
    "    # #     print (tag.text)\n",
    "\n",
    "\n",
    "    # for tag in soup.find_all('div',{\"class\":'v1Nh3 kIKUG  _bz0w'}):\n",
    "    #     print (tag.text)\n",
    "\n",
    "    # for tag in soup.find_all('')\n",
    "    for i in range(len(mydivs)):\n",
    "        rr=(mydivs[i].find_all('a'))[0]['href']\n",
    "        if rr[0]=='/':\n",
    "            rr=rr[1:]\n",
    "        l.append(rr)\n",
    "    for i in l[9:]:\n",
    "        try:\n",
    "            s='https://www.instagram.com/'\n",
    "            s+=i\n",
    "            driver.get(s)\n",
    "            sleep(4)\n",
    "            a=driver.find_element_by_xpath('/html/body/div[1]/section/main/div/div[1]/article/div[3]/section[1]/span[1]/button')\n",
    "            a.click()\n",
    "        except:\n",
    "            sleep(3)\n",
    "            print('wrong one pa what u doing ma')\n"
   ]
  },
  {
   "cell_type": "code",
   "execution_count": 19,
   "id": "wrong-mathematics",
   "metadata": {},
   "outputs": [],
   "source": []
  },
  {
   "cell_type": "code",
   "execution_count": 20,
   "id": "intense-locator",
   "metadata": {},
   "outputs": [],
   "source": []
  },
  {
   "cell_type": "code",
   "execution_count": 16,
   "id": "worth-qualification",
   "metadata": {},
   "outputs": [],
   "source": []
  },
  {
   "cell_type": "code",
   "execution_count": 21,
   "id": "floral-ceramic",
   "metadata": {},
   "outputs": [
    {
     "name": "stdout",
     "output_type": "stream",
     "text": [
      "wrong one pa what u doing ma\n",
      "wrong one pa what u doing ma\n"
     ]
    }
   ],
   "source": [
    "for i in l[9:]:\n",
    "    try:\n",
    "        s='https://www.instagram.com/'\n",
    "        s+=i\n",
    "        driver.get(s)\n",
    "        sleep(4)\n",
    "        a=driver.find_element_by_xpath('/html/body/div[1]/section/main/div/div[1]/article/div[3]/section[1]/span[1]/button')\n",
    "        a.click()\n",
    "    except:\n",
    "        sleep(3)\n",
    "        print('wrong one pa what u doing ma')\n",
    "    "
   ]
  },
  {
   "cell_type": "code",
   "execution_count": null,
   "id": "julian-ticket",
   "metadata": {},
   "outputs": [],
   "source": []
  },
  {
   "cell_type": "code",
   "execution_count": null,
   "id": "stylish-colony",
   "metadata": {},
   "outputs": [],
   "source": []
  },
  {
   "cell_type": "code",
   "execution_count": null,
   "id": "brilliant-austria",
   "metadata": {},
   "outputs": [],
   "source": []
  }
 ],
 "metadata": {
  "kernelspec": {
   "display_name": "Python 3",
   "language": "python",
   "name": "python3"
  },
  "language_info": {
   "codemirror_mode": {
    "name": "ipython",
    "version": 3
   },
   "file_extension": ".py",
   "mimetype": "text/x-python",
   "name": "python",
   "nbconvert_exporter": "python",
   "pygments_lexer": "ipython3",
   "version": "3.9.1"
  }
 },
 "nbformat": 4,
 "nbformat_minor": 5
}
