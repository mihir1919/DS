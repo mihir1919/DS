{
 "cells": [
  {
   "cell_type": "code",
   "execution_count": 153,
   "id": "prescription-execution",
   "metadata": {},
   "outputs": [],
   "source": [
    "import numpy as np"
   ]
  },
  {
   "cell_type": "code",
   "execution_count": 154,
   "id": "forward-effectiveness",
   "metadata": {},
   "outputs": [],
   "source": [
    "import pandas as pd"
   ]
  },
  {
   "cell_type": "code",
   "execution_count": 155,
   "id": "western-priority",
   "metadata": {},
   "outputs": [],
   "source": [
    "df=pd.read_csv(\"CSW_CTF_Task_1_1.csv\")"
   ]
  },
  {
   "cell_type": "code",
   "execution_count": 156,
   "id": "usual-dependence",
   "metadata": {},
   "outputs": [],
   "source": [
    "desc=pd.read_csv(\"allitems.csv\")"
   ]
  },
  {
   "cell_type": "code",
   "execution_count": 157,
   "id": "emerging-semester",
   "metadata": {},
   "outputs": [
    {
     "data": {
      "text/html": [
       "<div>\n",
       "<style scoped>\n",
       "    .dataframe tbody tr th:only-of-type {\n",
       "        vertical-align: middle;\n",
       "    }\n",
       "\n",
       "    .dataframe tbody tr th {\n",
       "        vertical-align: top;\n",
       "    }\n",
       "\n",
       "    .dataframe thead th {\n",
       "        text-align: right;\n",
       "    }\n",
       "</style>\n",
       "<table border=\"1\" class=\"dataframe\">\n",
       "  <thead>\n",
       "    <tr style=\"text-align: right;\">\n",
       "      <th></th>\n",
       "      <th>CVE</th>\n",
       "    </tr>\n",
       "  </thead>\n",
       "  <tbody>\n",
       "    <tr>\n",
       "      <th>0</th>\n",
       "      <td>CVE-2020-12712</td>\n",
       "    </tr>\n",
       "    <tr>\n",
       "      <th>1</th>\n",
       "      <td>CVE-2020-3956</td>\n",
       "    </tr>\n",
       "    <tr>\n",
       "      <th>2</th>\n",
       "      <td>CVE-2020-0796</td>\n",
       "    </tr>\n",
       "    <tr>\n",
       "      <th>3</th>\n",
       "      <td>CVE-2020-8617</td>\n",
       "    </tr>\n",
       "    <tr>\n",
       "      <th>4</th>\n",
       "      <td>CVE-2020-13166</td>\n",
       "    </tr>\n",
       "  </tbody>\n",
       "</table>\n",
       "</div>"
      ],
      "text/plain": [
       "              CVE\n",
       "0  CVE-2020-12712\n",
       "1   CVE-2020-3956\n",
       "2   CVE-2020-0796\n",
       "3   CVE-2020-8617\n",
       "4  CVE-2020-13166"
      ]
     },
     "execution_count": 157,
     "metadata": {},
     "output_type": "execute_result"
    }
   ],
   "source": [
    "df.head()"
   ]
  },
  {
   "cell_type": "code",
   "execution_count": 158,
   "id": "afraid-campbell",
   "metadata": {},
   "outputs": [],
   "source": [
    "(desc.loc[desc['Name'] == \"CVE-2020-0003\"])[\"Description\"].values[0]\n",
    "df['type'] = pd.Series(1, index=df.index)\n",
    "\n",
    "df=df.values\n"
   ]
  },
  {
   "cell_type": "code",
   "execution_count": 159,
   "id": "seven-server",
   "metadata": {},
   "outputs": [],
   "source": [
    "from difflib import SequenceMatcher\n",
    "\n",
    "def similar(a, b):\n",
    "    return SequenceMatcher(None, a, b).ratio()"
   ]
  },
  {
   "cell_type": "code",
   "execution_count": 160,
   "id": "interim-patrol",
   "metadata": {},
   "outputs": [],
   "source": [
    "\n",
    "for i in df:\n",
    "    s=((desc.loc[desc['Name'] == i[0]])[\"Description\"].values[0]).split(\" \")\n",
    "#     print((desc.loc[desc['Name'] == i[0]])[\"Description\"].values[0])\n",
    "    s=[x.lower() for x in s]\n",
    "#     print(s)\n",
    "    for j in s:\n",
    "        if(similar(j,'remote')>0.9 or similar(j,'code')>0.9 or similar(j,'execution')>0.9):\n",
    "            i[1]='Remote Code Execution(RCE)'\n",
    "        elif(similar(j,\"privilege\")>0.9 or similar(j,\"escalation\")>0.9):\n",
    "            i[1]=\"Privilege Escalation\"\n",
    "        elif(similar(j,\"denial\")>0.9 or similar(j,\"service\")>0.9):\n",
    "            i[1]=\"Denial of Service(DOS)\"\n",
    "        elif(similar(j,\"webapp\")>0.9):\n",
    "            i[1]=\"WebApp\"\n",
    "    if(i[1]==1):\n",
    "        if('vulnerability' in s):\n",
    "            i[1]=' '.join((s[(s.index('vulnerability')-2):(s.index('vulnerability')+1)]))\n",
    "#             print('f')\n",
    "        else:\n",
    "            i[1]='NA'\n",
    "df=pd.DataFrame(df)\n",
    "df.columns=['CVS','Type']"
   ]
  },
  {
   "cell_type": "code",
   "execution_count": 161,
   "id": "based-movement",
   "metadata": {},
   "outputs": [],
   "source": [
    "df.to_csv('div.csv')"
   ]
  },
  {
   "cell_type": "code",
   "execution_count": null,
   "id": "expanded-crawford",
   "metadata": {},
   "outputs": [],
   "source": []
  },
  {
   "cell_type": "code",
   "execution_count": null,
   "id": "cutting-avenue",
   "metadata": {},
   "outputs": [],
   "source": []
  },
  {
   "cell_type": "code",
   "execution_count": null,
   "id": "disturbed-change",
   "metadata": {},
   "outputs": [],
   "source": []
  },
  {
   "cell_type": "code",
   "execution_count": null,
   "id": "verbal-organizer",
   "metadata": {},
   "outputs": [],
   "source": []
  },
  {
   "cell_type": "code",
   "execution_count": null,
   "id": "collaborative-mouth",
   "metadata": {},
   "outputs": [],
   "source": []
  },
  {
   "cell_type": "code",
   "execution_count": null,
   "id": "continental-division",
   "metadata": {},
   "outputs": [],
   "source": []
  },
  {
   "cell_type": "code",
   "execution_count": null,
   "id": "maritime-kingdom",
   "metadata": {},
   "outputs": [],
   "source": []
  },
  {
   "cell_type": "code",
   "execution_count": null,
   "id": "finished-mercury",
   "metadata": {},
   "outputs": [],
   "source": []
  }
 ],
 "metadata": {
  "kernelspec": {
   "display_name": "Python 3",
   "language": "python",
   "name": "python3"
  },
  "language_info": {
   "codemirror_mode": {
    "name": "ipython",
    "version": 3
   },
   "file_extension": ".py",
   "mimetype": "text/x-python",
   "name": "python",
   "nbconvert_exporter": "python",
   "pygments_lexer": "ipython3",
   "version": "3.9.1"
  }
 },
 "nbformat": 4,
 "nbformat_minor": 5
}
