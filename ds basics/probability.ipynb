{
 "cells": [
  {
   "cell_type": "code",
   "execution_count": 93,
   "id": "fancy-twenty",
   "metadata": {},
   "outputs": [],
   "source": [
    "import numpy as np\n",
    "import matplotlib.pyplot as plt"
   ]
  },
  {
   "cell_type": "code",
   "execution_count": 108,
   "id": "pleased-titanium",
   "metadata": {},
   "outputs": [],
   "source": [
    "u = 5\n",
    "sigma = 2\n",
    "# np.seed(1)\n",
    "\n",
    "vals = u + sigma*np.random.randn(1000)\n",
    "\n"
   ]
  },
  {
   "cell_type": "code",
   "execution_count": 111,
   "id": "pregnant-chess",
   "metadata": {},
   "outputs": [
    {
     "data": {
      "text/plain": [
       "(array([ 1.,  2.,  1.,  0.,  1.,  1.,  5.,  2.,  5.,  7., 13., 15., 19.,\n",
       "        17., 22., 29., 29., 28., 39., 42., 47., 37., 46., 54., 45., 50.,\n",
       "        58., 60., 42., 33., 34., 33., 30., 30., 27., 19., 20., 16.,  8.,\n",
       "        12.,  4.,  4.,  3.,  2.,  3.,  1.,  2.,  0.,  0.,  2.]),\n",
       " array([-1.20406243, -0.95374966, -0.70343689, -0.45312412, -0.20281135,\n",
       "         0.04750141,  0.29781418,  0.54812695,  0.79843972,  1.04875249,\n",
       "         1.29906526,  1.54937803,  1.7996908 ,  2.05000357,  2.30031633,\n",
       "         2.5506291 ,  2.80094187,  3.05125464,  3.30156741,  3.55188018,\n",
       "         3.80219295,  4.05250572,  4.30281849,  4.55313125,  4.80344402,\n",
       "         5.05375679,  5.30406956,  5.55438233,  5.8046951 ,  6.05500787,\n",
       "         6.30532064,  6.55563341,  6.80594617,  7.05625894,  7.30657171,\n",
       "         7.55688448,  7.80719725,  8.05751002,  8.30782279,  8.55813556,\n",
       "         8.80844833,  9.05876109,  9.30907386,  9.55938663,  9.8096994 ,\n",
       "        10.06001217, 10.31032494, 10.56063771, 10.81095048, 11.06126324,\n",
       "        11.31157601]),\n",
       " <BarContainer object of 50 artists>)"
      ]
     },
     "execution_count": 111,
     "metadata": {},
     "output_type": "execute_result"
    },
    {
     "data": {
      "image/png": "[encoded data removed]",
      "text/plain": [
       "<Figure size 432x288 with 1 Axes>"
      ]
     },
     "metadata": {
      "needs_background": "light"
     },
     "output_type": "display_data"
    }
   ],
   "source": [
    "plt.hist(vals,50)"
   ]
  },
  {
   "cell_type": "code",
   "execution_count": 117,
   "id": "breeding-consolidation",
   "metadata": {},
   "outputs": [
    {
     "data": {
      "text/plain": [
       "[[-1, 4],\n",
       " [0, 5],\n",
       " [1, 29],\n",
       " [2, 66],\n",
       " [3, 128],\n",
       " [4, 163],\n",
       " [5, 211],\n",
       " [6, 171],\n",
       " [7, 123],\n",
       " [8, 66],\n",
       " [9, 23],\n",
       " [10, 8],\n",
       " [11, 3]]"
      ]
     },
     "execution_count": 117,
     "metadata": {},
     "output_type": "execute_result"
    }
   ],
   "source": [
    "vals=[round(x) for x in vals]\n",
    "[[x,vals.count(x)] for x in np.unique(vals)]"
   ]
  }
 ],
 "metadata": {
  "kernelspec": {
   "display_name": "Python 3",
   "language": "python",
   "name": "python3"
  },
  "language_info": {
   "codemirror_mode": {
    "name": "ipython",
    "version": 3
   },
   "file_extension": ".py",
   "mimetype": "text/x-python",
   "name": "python",
   "nbconvert_exporter": "python",
   "pygments_lexer": "ipython3",
   "version": "3.9.1"
  }
 },
 "nbformat": 4,
 "nbformat_minor": 5
}
