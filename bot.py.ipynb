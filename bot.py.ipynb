{
 "cells": [
  {
   "cell_type": "code",
   "execution_count": 5,
   "id": "random-bracket",
   "metadata": {},
   "outputs": [
    {
     "name": "stdout",
     "output_type": "stream",
     "text": [
      "None\n"
     ]
    }
   ],
   "source": [
    "import logging\n",
    "logging.basicConfig(level=logging.DEBUG,format='%(asctime)s - %(name)s - %(levelname)s - %(message)s')\n",
    "logger = logging.getLogger()\n",
    "print(logger.setLevel(logging.INFO)) "
   ]
  },
  {
   "cell_type": "code",
   "execution_count": null,
   "id": "silver-compilation",
   "metadata": {},
   "outputs": [
    {
     "name": "stderr",
     "output_type": "stream",
     "text": [
      "2021-05-31 17:53:05,313 - apscheduler.scheduler - INFO - Scheduler started\n"
     ]
    }
   ],
   "source": [
    "from telegram.ext import Updater#this is used to start updater which has a job of a polling server\n",
    "from telegram.ext import CommandHandler,MessageHandler,Filters#this is picked up from github doc diff from cb\n",
    "TOKEN=\"1689415388:AAGbsnbRpz1xXwsTt8e6CVOakxi0n-w3nIY\"\n",
    "\n",
    "def main():\n",
    "    updater=Updater(TOKEN)#try to recieve updates from telegram server\n",
    "    \n",
    "    dp = updater.dispatcher#handling updates\n",
    "    \n",
    "    start_handler = CommandHandler('start', start)\n",
    "    how_handler = CommandHandler('how',how)\n",
    "    echo_handler =  MessageHandler(Filters.text & (~Filters.command), echo)\n",
    "    emo_handler = MessageHandler(Filters.sticker, emo)\n",
    "    dp.add_handler(start_handler)\n",
    "    dp.add_handler(how_handler)\n",
    "    dp.add_handler(echo_handler)\n",
    "    dp.add_handler(emo_handler)\n",
    "#     dp.error_handler(error)\n",
    "    updater.start_polling()\n",
    "#     updater.stop()\n",
    "    updater.idle()\n",
    "    \n",
    "def how(update,context):\n",
    "    context.bot.send_message(chat_id=update.effective_chat.id, text=\"I'm fine thank you!\")\n",
    "    \n",
    "def start(update, context):\n",
    "#     print(update)\n",
    "#     print(context)\n",
    "    context.bot.send_message(chat_id=update.effective_chat.id, text=\"Hi {} I'm a bot, please talk to me!\".format(update.message.from_user.first_name+\" \"+update.message.from_user.last_name))\n",
    "    \n",
    "def echo(update, context):\n",
    "    context.bot.send_message(chat_id=update.effective_chat.id, text=update.message.text)\n",
    "\n",
    "def emo(update,context):\n",
    "    context.bot.send_sticker(chat_id=update.effective_chat.id, sticker=update.message.sticker.file_id)\n",
    "\n",
    "def error(bot, update, error):\n",
    "    if not (error.message == \"Message is not modified\"):\n",
    "        logger.warning('Update \"%s\" caused error \"%s\"' % (update, error))\n",
    "    \n",
    "if __name__==\"__main__\":\n",
    "    main()"
   ]
  },
  {
   "cell_type": "code",
   "execution_count": null,
   "id": "paperback-union",
   "metadata": {},
   "outputs": [],
   "source": []
  },
  {
   "cell_type": "code",
   "execution_count": null,
   "id": "every-military",
   "metadata": {},
   "outputs": [],
   "source": []
  }
 ],
 "metadata": {
  "kernelspec": {
   "display_name": "Python 3",
   "language": "python",
   "name": "python3"
  },
  "language_info": {
   "codemirror_mode": {
    "name": "ipython",
    "version": 3
   },
   "file_extension": ".py",
   "mimetype": "text/x-python",
   "name": "python",
   "nbconvert_exporter": "python",
   "pygments_lexer": "ipython3",
   "version": "3.9.1"
  }
 },
 "nbformat": 4,
 "nbformat_minor": 5
}
