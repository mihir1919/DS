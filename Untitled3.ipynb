{
 "cells": [
  {
   "cell_type": "code",
   "execution_count": 93,
   "id": "736c3dd4",
   "metadata": {},
   "outputs": [],
   "source": [
    "from selenium import webdriver\n",
    "from time import sleep\n",
    "import requests # to get image from the web\n",
    "import shutil # to save it locally\n",
    "import json\n",
    "import os\n",
    "import time\n",
    "import pandas as pd\n",
    "import random\n",
    "from bs4 import BeautifulSoup"
   ]
  },
  {
   "cell_type": "code",
   "execution_count": 94,
   "id": "f2847d8f",
   "metadata": {},
   "outputs": [
    {
     "name": "stderr",
     "output_type": "stream",
     "text": [
      "\n",
      "\n",
      "====== WebDriver manager ======\n",
      "Current google-chrome version is 91.0.4472\n",
      "Get LATEST driver version for 91.0.4472\n",
      "Driver [/Users/mihir/.wdm/drivers/chromedriver/mac64/91.0.4472.19/chromedriver] found in cache\n"
     ]
    }
   ],
   "source": [
    "from selenium import webdriver\n",
    "from webdriver_manager.chrome import ChromeDriverManager\n",
    "\n",
    "driver = webdriver.Chrome(ChromeDriverManager().install())"
   ]
  },
  {
   "cell_type": "code",
   "execution_count": 98,
   "id": "28d0f2e6",
   "metadata": {},
   "outputs": [],
   "source": [
    "driver.get('https://docs.google.com/forms/d/e/1FAIpQLSdgbIlJ9GdMzvrz6g4crf7DMShxZCUPSgolLBAkHtBNM3NicA/viewform?usp=sf_link')\n",
    "sleep(2)"
   ]
  },
  {
   "cell_type": "code",
   "execution_count": 46,
   "id": "681d1b64",
   "metadata": {},
   "outputs": [],
   "source": [
    "d=driver.find_element_by_xpath('/html/body/div/div[2]/form/div[2]/div/div[2]/div[1]/div/div/div[2]/div/div[1]/div/div[1]/input')\n",
    "d.send_keys('Aryan')"
   ]
  },
  {
   "cell_type": "code",
   "execution_count": 95,
   "id": "17fbbb03",
   "metadata": {},
   "outputs": [],
   "source": [
    "cs=pd.read_csv('Indian-Male-Names.csv')"
   ]
  },
  {
   "cell_type": "code",
   "execution_count": 104,
   "id": "ed452d8e",
   "metadata": {},
   "outputs": [],
   "source": [
    "csx=(cs.values)[560:600]"
   ]
  },
  {
   "cell_type": "code",
   "execution_count": 105,
   "id": "5e742230",
   "metadata": {},
   "outputs": [],
   "source": [
    "\n",
    "csxf=[]\n",
    "for i in csx:\n",
    "    if(i[0].find(\"@\")== -1):\n",
    "        csxf.append(i)"
   ]
  },
  {
   "cell_type": "code",
   "execution_count": null,
   "id": "7e29d691",
   "metadata": {},
   "outputs": [],
   "source": []
  },
  {
   "cell_type": "code",
   "execution_count": null,
   "id": "9802f63f",
   "metadata": {},
   "outputs": [],
   "source": [
    "/html/body/div/div[2]/form/div[2]/div/div[2]/div[2]/div/div/div[2]/div/div/span/div/div[2]/label/div/div[1]/div/div[3]\n",
    "/html/body/div/div[2]/form/div[2]/div/div[2]/div[3]/div/div/div[2]/div/div/span/div/div[4]/label/div/div[1]/div/div[3]\n",
    "/html/body/div/div[2]/form/div[2]/div/div[2]/div[2]/div/div/div[2]/div/div/span/div/div[2]/label/div/div[1]/div/div[3]"
   ]
  },
  {
   "cell_type": "code",
   "execution_count": null,
   "id": "a4360a4e",
   "metadata": {},
   "outputs": [],
   "source": [
    "for q in csxf:\n",
    "    e=q[0]\n",
    "    ef=q[1]\n",
    "    d=driver.find_element_by_xpath('/html/body/div/div[2]/form/div[2]/div/div[2]/div[1]/div/div/div[2]/div/div[1]/div/div[1]/input')\n",
    "    d.send_keys(e)\n",
    "    \n",
    "    for k in range(2,8):\n",
    "        a=random.randint(1,3)\n",
    "        name=driver.find_element_by_xpath(('/html/body/div/div[2]/form/div[2]/div/div[2]/div[{}]/div/div/div[2]/div/div/span/div/div[{}]/label/div/div[1]/div/div[3]').format(k,a))\n",
    "        name.click()\n",
    "        \n",
    "    eq=driver.find_element_by_xpath('/html/body/div/div[2]/form/div[2]/div/div[3]/div[1]/div[1]/div/span')\n",
    "    eq.click()\n",
    "    \n",
    "    sleep(2)\n",
    "        \n",
    "    for i in range(2,33):\n",
    "        a=random.randint(1,5)\n",
    "        name=driver.find_element_by_xpath(('/html/body/div/div[2]/form/div[2]/div/div[2]/div[{}]/div/div/div[2]/div/span/div/label[{}]/div[2]/div/div/div[3]').format(i,a))\n",
    "        name.click()\n",
    "    sleep(2)\n",
    "# /html/body/div/div[2]/form/div[2]/div/div[2]/div[2]/div/div/div[2]/div/span/div/label[2]/div[2]/div/div/div[3]\n",
    "# /html/body/div/div[2]/form/div[2]/div/div[2]/div[6]/div/div/div[2]/div/span/div/label[3]/div[2]/div/div/div[3]\n",
    "# /html/body/div/div[2]/form/div[2]/div/div[2]/div[7]/div/div/div[2]/div/span/div/label[5]/div[2]/div/div/div[3]\n",
    "    t=driver.find_element_by_xpath('/html/body/div/div[2]/form/div[2]/div/div[3]/div[1]/div[1]/div[2]/span')\n",
    "\n",
    "    t.click()\n",
    "    sleep(2)\n",
    "    y=driver.find_element_by_xpath('/html/body/div[1]/div[2]/div[1]/div/div[4]/a')\n",
    "    y.click()\n",
    "    sleep(2)"
   ]
  },
  {
   "cell_type": "code",
   "execution_count": 44,
   "id": "9a790eca",
   "metadata": {},
   "outputs": [],
   "source": [
    "/html/body/div/div[2]/form/div[2]/div/div[2]/div[2]/div/div/div[2]/div/span/div/label[4]/div[2]/div/div/div[3]\n",
    "/html/body/div/div[2]/form/div[2]/div/div[2]/div[7]/div/div/div[2]/div/div/span/div/div[3]/label/div/div[1]/div/div[3]\n",
    "\n",
    "# /html/body/div/div[2]/form/div[2]/div/div[2]/div[2]/div/div/div[2]/div/div/span/div/div[2]/label/div/div[1]/div/div[3]\n",
    "# /html/body/div/div[2]/form/div[2]/div/div[2]/div[1]/div/div/div[2]/div/div/span/div/div[1]/label/div/div[1]/div/div[3]\n",
    "# /html/body/div/div[2]/form/div[2]/div/div[2]/div[2]/div/div/div[2]/div/div/span/div/div[1]/label/div/div[1]/div/div[3]\n",
    "# /html/body/div/div[2]/form/div[2]/div/div[2]/div[3]/div/div/div[2]/div/div/span/div/div[1]/label/div/div[1]/div/div[3]\n",
    "y=driver.find_element_by_xpath('/html/body/div[1]/div[2]/div[1]/div/div[4]/a')\n",
    "y.click()"
   ]
  }
 ],
 "metadata": {
  "kernelspec": {
   "display_name": "Python 3",
   "language": "python",
   "name": "python3"
  },
  "language_info": {
   "codemirror_mode": {
    "name": "ipython",
    "version": 3
   },
   "file_extension": ".py",
   "mimetype": "text/x-python",
   "name": "python",
   "nbconvert_exporter": "python",
   "pygments_lexer": "ipython3",
   "version": "3.9.2"
  }
 },
 "nbformat": 4,
 "nbformat_minor": 5
}
