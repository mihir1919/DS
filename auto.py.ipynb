{
 "cells": [
  {
   "cell_type": "code",
   "execution_count": 74,
   "id": "70b53ede",
   "metadata": {},
   "outputs": [],
   "source": [
    "from selenium import webdriver\n",
    "from time import sleep\n",
    "import requests # to get image from the web\n",
    "import shutil # to save it locally\n",
    "import json\n",
    "import os\n",
    "import time\n",
    "from bs4 import BeautifulSoup"
   ]
  },
  {
   "cell_type": "code",
   "execution_count": 75,
   "id": "a5a185b5",
   "metadata": {},
   "outputs": [],
   "source": [
    "driver = webdriver.Chrome()\n",
    "\n",
    "driver.get('https://selfregistration.cowin.gov.in/')\n",
    "sleep(2)"
   ]
  },
  {
   "cell_type": "code",
   "execution_count": 76,
   "id": "33f30de1",
   "metadata": {},
   "outputs": [
    {
     "name": "stdout",
     "output_type": "stream",
     "text": [
      "9971289345\n"
     ]
    }
   ],
   "source": [
    "y=int(input())\n",
    "\n",
    "name=driver.find_element_by_xpath('/html/body/app-root/ion-app/ion-router-outlet/app-login/ion-content/div/ion-grid/ion-row/ion-col/ion-grid/ion-row/ion-col[1]/ion-grid/form/ion-row/ion-col[2]/ion-item/mat-form-field/div/div[1]/div/input')\n",
    "name.send_keys(y)\n",
    "\n",
    "login = driver.find_element_by_xpath('/html/body/app-root/ion-app/ion-router-outlet/app-login/ion-content/div/ion-grid/ion-row/ion-col/ion-grid/ion-row/ion-col[1]/ion-grid/form/ion-row/ion-col[2]/div/ion-button')\n",
    "login.click()\n",
    "\n",
    "sleep(5)"
   ]
  },
  {
   "cell_type": "code",
   "execution_count": 77,
   "id": "e266e48c",
   "metadata": {},
   "outputs": [
    {
     "name": "stdout",
     "output_type": "stream",
     "text": [
      "942849\n"
     ]
    }
   ],
   "source": [
    "y=int(input())\n",
    "\n",
    "name=driver.find_element_by_xpath('/html/body/app-root/ion-app/ion-router-outlet/app-login/ion-content/div/ion-grid/ion-row/ion-col/ion-grid/ion-row/ion-col/ion-grid/form/ion-row/ion-col[2]/ion-item/mat-form-field/div/div[1]/div/input')\n",
    "name.send_keys(y)\n",
    "\n",
    "login = driver.find_element_by_xpath('/html/body/app-root/ion-app/ion-router-outlet/app-login/ion-content/div/ion-grid/ion-row/ion-col/ion-grid/ion-row/ion-col/ion-grid/form/ion-row/ion-col[3]/div/ion-button')\n",
    "login.click()"
   ]
  },
  {
   "cell_type": "code",
   "execution_count": 78,
   "id": "c991364a",
   "metadata": {},
   "outputs": [],
   "source": [
    "html = driver.page_source"
   ]
  },
  {
   "cell_type": "code",
   "execution_count": 79,
   "id": "573edd05",
   "metadata": {},
   "outputs": [],
   "source": [
    "soup = BeautifulSoup(html)"
   ]
  },
  {
   "cell_type": "code",
   "execution_count": 80,
   "id": "f858f6fe",
   "metadata": {},
   "outputs": [],
   "source": [
    "butdivs = soup.find_all(\"li\", {\"class\": \"bordernone ng-star-inserted\"})\n",
    "namedivs = soup.find_all(\"span\", {\"class\": \"ben-name\"})"
   ]
  },
  {
   "cell_type": "code",
   "execution_count": 81,
   "id": "b4707dfb",
   "metadata": {},
   "outputs": [
    {
     "data": {
      "text/plain": [
       "[<li _ngcontent-sbu-c143=\"\" class=\"bordernone ng-star-inserted\"><a _ngcontent-sbu-c143=\"\" aria-label=\"Schedule\" href=\"/dashboard\" role=\"link\"><img _ngcontent-sbu-c143=\"\" alt=\"calender-icon\" class=\"calcls\" src=\"assets/images/calndericon.svg\"/><span _ngcontent-sbu-c143=\"\" class=\"m-lablename accessibility-plugin-ac\">Schedule</span></a></li>,\n",
       " <li _ngcontent-sbu-c143=\"\" class=\"bordernone ng-star-inserted\"><a _ngcontent-sbu-c143=\"\" aria-label=\"Schedule\" href=\"/dashboard\" role=\"link\"><img _ngcontent-sbu-c143=\"\" alt=\"calender-icon\" class=\"calcls\" src=\"assets/images/calndericon.svg\"/><span _ngcontent-sbu-c143=\"\" class=\"m-lablename accessibility-plugin-ac\">Schedule</span></a></li>,\n",
       " <li _ngcontent-sbu-c143=\"\" class=\"bordernone ng-star-inserted\"><a _ngcontent-sbu-c143=\"\" aria-label=\"Schedule\" href=\"/dashboard\" role=\"link\"><img _ngcontent-sbu-c143=\"\" alt=\"calender-icon\" class=\"calcls\" src=\"assets/images/calndericon.svg\"/><span _ngcontent-sbu-c143=\"\" class=\"m-lablename accessibility-plugin-ac\">Schedule</span></a></li>,\n",
       " <li _ngcontent-sbu-c143=\"\" class=\"bordernone ng-star-inserted\"><a _ngcontent-sbu-c143=\"\" aria-label=\"Schedule\" href=\"/dashboard\" role=\"link\"><img _ngcontent-sbu-c143=\"\" alt=\"calender-icon\" class=\"calcls\" src=\"assets/images/calndericon.svg\"/><span _ngcontent-sbu-c143=\"\" class=\"m-lablename accessibility-plugin-ac\">Schedule</span></a></li>]"
      ]
     },
     "execution_count": 81,
     "metadata": {},
     "output_type": "execute_result"
    }
   ],
   "source": [
    "butdivs"
   ]
  },
  {
   "cell_type": "code",
   "execution_count": 82,
   "id": "3032f99b",
   "metadata": {},
   "outputs": [
    {
     "name": "stdout",
     "output_type": "stream",
     "text": [
      "Mihir Srivastava\n"
     ]
    }
   ],
   "source": [
    "name=input()"
   ]
  },
  {
   "cell_type": "code",
   "execution_count": 83,
   "id": "d39a26b3",
   "metadata": {},
   "outputs": [],
   "source": [
    "u=-1"
   ]
  },
  {
   "cell_type": "code",
   "execution_count": 84,
   "id": "da4901c9",
   "metadata": {},
   "outputs": [],
   "source": [
    "for i in range(len(butdivs)):\n",
    "    if(namedivs[i].text==name):\n",
    "        u=i\n",
    "        break"
   ]
  },
  {
   "cell_type": "code",
   "execution_count": 85,
   "id": "71f60ed0",
   "metadata": {},
   "outputs": [],
   "source": [
    "u+=1"
   ]
  },
  {
   "cell_type": "code",
   "execution_count": 86,
   "id": "3064f306",
   "metadata": {},
   "outputs": [],
   "source": [
    "r=driver.find_element_by_xpath('/html/body/app-root/ion-app/ion-router-outlet/app-beneficiary-dashboard/ion-content/div/div/ion-grid/ion-row/ion-col/ion-grid[1]/ion-row[{}]/ion-col/ion-grid/ion-row[4]/ion-col[2]/ul/li/a/span'.format(u))\n",
    "r.click()"
   ]
  },
  {
   "cell_type": "code",
   "execution_count": 91,
   "id": "ccb7f982",
   "metadata": {},
   "outputs": [
    {
     "name": "stdout",
     "output_type": "stream",
     "text": [
      "1\n",
      "201304\n"
     ]
    }
   ],
   "source": [
    "w=int(input())\n",
    "if(w==1):\n",
    "    u=int(input())\n",
    "    e=driver.find_element_by_xpath('/html/body/app-root/ion-app/ion-router-outlet/app-appointment-table/ion-content/div/div/ion-grid/ion-row/ion-grid/ion-row/ion-col/ion-grid/ion-row/ion-col[2]/form/ion-grid[1]/ion-row/ion-col[3]/mat-form-field/div/div[1]/div/input')\n",
    "    e.send_keys(u)\n",
    "    w=driver.find_element_by_xpath('/html/body/app-root/ion-app/ion-router-outlet/app-appointment-table/ion-content/div/div/ion-grid/ion-row/ion-grid/ion-row/ion-col/ion-grid/ion-row/ion-col[2]/form/ion-grid[1]/ion-row/ion-col[2]/div/label/button')\n",
    "    w.click()"
   ]
  },
  {
   "cell_type": "code",
   "execution_count": 92,
   "id": "856b4ab1",
   "metadata": {},
   "outputs": [],
   "source": [
    "w.click()"
   ]
  },
  {
   "cell_type": "code",
   "execution_count": 94,
   "id": "d18eec81",
   "metadata": {},
   "outputs": [],
   "source": [
    "w=driver.find_element_by_xpath('/html/body/app-root/ion-app/ion-router-outlet/app-appointment-table/ion-content/div/div/ion-grid/ion-row/ion-grid/ion-row/ion-col/ion-grid/ion-row/ion-col[2]/form/ion-grid[1]/ion-row/ion-col[4]/ion-button')"
   ]
  },
  {
   "cell_type": "code",
   "execution_count": 95,
   "id": "022ed7e0",
   "metadata": {},
   "outputs": [],
   "source": [
    "w.click()"
   ]
  },
  {
   "cell_type": "code",
   "execution_count": 100,
   "id": "e58addc6",
   "metadata": {},
   "outputs": [
    {
     "name": "stdout",
     "output_type": "stream",
     "text": [
      "click 1 for 18+, 2 for 18-44, 3 for 45+\n"
     ]
    }
   ],
   "source": [
    "print(\"click 1 for 18+, 2 for 18-44, 3 for 45+\")"
   ]
  },
  {
   "cell_type": "code",
   "execution_count": 101,
   "id": "b8be7c64",
   "metadata": {},
   "outputs": [
    {
     "name": "stdout",
     "output_type": "stream",
     "text": [
      "click 1 for 18+, 2 for 18-44, 3 for 45+1\n"
     ]
    }
   ],
   "source": [
    "q=int(input(\"click 1 for 18+, 2 for 18-44, 3 for 45+\"))"
   ]
  },
  {
   "cell_type": "code",
   "execution_count": 102,
   "id": "0eb29dd4",
   "metadata": {},
   "outputs": [],
   "source": [
    "q=driver.find_element_by_xpath('/html/body/app-root/ion-app/ion-router-outlet/app-appointment-table/ion-content/div/div/ion-grid/ion-row/ion-grid/ion-row/ion-col/ion-grid/ion-row/ion-col[2]/form/ion-grid[1]/ion-row[2]/ion-col/div/div[2]/ul/li[1]/div/div[{}]'.format(q))"
   ]
  },
  {
   "cell_type": "code",
   "execution_count": 103,
   "id": "54621330",
   "metadata": {},
   "outputs": [],
   "source": [
    "q.click()"
   ]
  },
  {
   "cell_type": "code",
   "execution_count": 104,
   "id": "cda6be91",
   "metadata": {},
   "outputs": [
    {
     "name": "stdout",
     "output_type": "stream",
     "text": [
      "click 1 for covishield, 2 for covaxin, 3 for sputnik1\n"
     ]
    }
   ],
   "source": [
    "q=int(input(\"click 1 for covishield, 2 for covaxin, 3 for sputnik\"))"
   ]
  },
  {
   "cell_type": "code",
   "execution_count": 105,
   "id": "400c45ed",
   "metadata": {},
   "outputs": [],
   "source": [
    "q=driver.find_element_by_xpath('/html/body/app-root/ion-app/ion-router-outlet/app-appointment-table/ion-content/div/div/ion-grid/ion-row/ion-grid/ion-row/ion-col/ion-grid/ion-row/ion-col[2]/form/ion-grid[1]/ion-row[2]/ion-col/div/div[2]/ul/li[3]/div/div[{}]'.format(q))"
   ]
  },
  {
   "cell_type": "code",
   "execution_count": 106,
   "id": "4f9e94e7",
   "metadata": {},
   "outputs": [],
   "source": [
    "q.click()"
   ]
  },
  {
   "cell_type": "code",
   "execution_count": null,
   "id": "8a1f7eb8",
   "metadata": {},
   "outputs": [],
   "source": [
    "'/html/body/app-root/ion-app/ion-router-outlet/app-appointment-table/ion-content/div/div/ion-grid/ion-row/ion-grid/ion-row/ion-col/ion-grid/ion-row/ion-col[2]/form/ion-grid[2]/ion-row/ion-col[3]/div/div/mat-selection-list/div[1]/mat-list-option/div/div[2]/ion-row/ion-col[2]/ul/li[1]/div[2]/div/a'\n",
    "'/html/body/app-root/ion-app/ion-router-outlet/app-appointment-table/ion-content/div/div/ion-grid/ion-row/ion-grid/ion-row/ion-col/ion-grid/ion-row/ion-col[2]/form/ion-grid[2]/ion-row/ion-col[3]/div/div/mat-selection-list/div[2]/mat-list-option/div/div[2]/ion-row/ion-col[2]/ul/li[1]/div/div/a'\n"
   ]
  }
 ],
 "metadata": {
  "kernelspec": {
   "display_name": "Python 3 (ipykernel)",
   "language": "python",
   "name": "python3"
  },
  "language_info": {
   "codemirror_mode": {
    "name": "ipython",
    "version": 3
   },
   "file_extension": ".py",
   "mimetype": "text/x-python",
   "name": "python",
   "nbconvert_exporter": "python",
   "pygments_lexer": "ipython3",
   "version": "3.9.6"
  }
 },
 "nbformat": 4,
 "nbformat_minor": 5
}
